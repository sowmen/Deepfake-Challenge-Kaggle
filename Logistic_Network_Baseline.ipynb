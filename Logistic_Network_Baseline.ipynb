{
  "nbformat": 4,
  "nbformat_minor": 0,
  "metadata": {
    "colab": {
      "name": "Logistic Network Baseline.ipynb",
      "provenance": [],
      "toc_visible": true,
      "machine_shape": "hm",
      "authorship_tag": "ABX9TyPxAkwdtakq5DlbtAIX/rsX",
      "include_colab_link": true
    },
    "kernelspec": {
      "name": "python3",
      "display_name": "Python 3"
    },
    "widgets": {
      "application/vnd.jupyter.widget-state+json": {
        "7e98fcdb2dec433689b735ff0b477ebf": {
          "model_module": "@jupyter-widgets/controls",
          "model_name": "HBoxModel",
          "state": {
            "_view_name": "HBoxView",
            "_dom_classes": [],
            "_model_name": "HBoxModel",
            "_view_module": "@jupyter-widgets/controls",
            "_model_module_version": "1.5.0",
            "_view_count": null,
            "_view_module_version": "1.5.0",
            "box_style": "",
            "layout": "IPY_MODEL_cb8bb6b11f8542988030b59e22838a7e",
            "_model_module": "@jupyter-widgets/controls",
            "children": [
              "IPY_MODEL_5e5c29125ec84d868be0afb4624242c6",
              "IPY_MODEL_bedf54cd693c49ed8179d71f286636af"
            ]
          }
        },
        "cb8bb6b11f8542988030b59e22838a7e": {
          "model_module": "@jupyter-widgets/base",
          "model_name": "LayoutModel",
          "state": {
            "_view_name": "LayoutView",
            "grid_template_rows": null,
            "right": null,
            "justify_content": null,
            "_view_module": "@jupyter-widgets/base",
            "overflow": null,
            "_model_module_version": "1.2.0",
            "_view_count": null,
            "flex_flow": null,
            "width": null,
            "min_width": null,
            "border": null,
            "align_items": null,
            "bottom": null,
            "_model_module": "@jupyter-widgets/base",
            "top": null,
            "grid_column": null,
            "overflow_y": null,
            "overflow_x": null,
            "grid_auto_flow": null,
            "grid_area": null,
            "grid_template_columns": null,
            "flex": null,
            "_model_name": "LayoutModel",
            "justify_items": null,
            "grid_row": null,
            "max_height": null,
            "align_content": null,
            "visibility": null,
            "align_self": null,
            "height": null,
            "min_height": null,
            "padding": null,
            "grid_auto_rows": null,
            "grid_gap": null,
            "max_width": null,
            "order": null,
            "_view_module_version": "1.2.0",
            "grid_template_areas": null,
            "object_position": null,
            "object_fit": null,
            "grid_auto_columns": null,
            "margin": null,
            "display": null,
            "left": null
          }
        },
        "5e5c29125ec84d868be0afb4624242c6": {
          "model_module": "@jupyter-widgets/controls",
          "model_name": "IntProgressModel",
          "state": {
            "_view_name": "ProgressView",
            "style": "IPY_MODEL_1bc6dea6bc0a4367b03807d80006629b",
            "_dom_classes": [],
            "description": "100%",
            "_model_name": "IntProgressModel",
            "bar_style": "success",
            "max": 200,
            "_view_module": "@jupyter-widgets/controls",
            "_model_module_version": "1.5.0",
            "value": 200,
            "_view_count": null,
            "_view_module_version": "1.5.0",
            "orientation": "horizontal",
            "min": 0,
            "description_tooltip": null,
            "_model_module": "@jupyter-widgets/controls",
            "layout": "IPY_MODEL_b1ab5cd398a44b238abc975291df663b"
          }
        },
        "bedf54cd693c49ed8179d71f286636af": {
          "model_module": "@jupyter-widgets/controls",
          "model_name": "HTMLModel",
          "state": {
            "_view_name": "HTMLView",
            "style": "IPY_MODEL_3636c4ffe90544319c9f0fcfed0ac525",
            "_dom_classes": [],
            "description": "",
            "_model_name": "HTMLModel",
            "placeholder": "​",
            "_view_module": "@jupyter-widgets/controls",
            "_model_module_version": "1.5.0",
            "value": " 200/200 [1:02:11&lt;00:00, 18.66s/it]",
            "_view_count": null,
            "_view_module_version": "1.5.0",
            "description_tooltip": null,
            "_model_module": "@jupyter-widgets/controls",
            "layout": "IPY_MODEL_2db5d8266d0d42979fcc61e497bf8fbf"
          }
        },
        "1bc6dea6bc0a4367b03807d80006629b": {
          "model_module": "@jupyter-widgets/controls",
          "model_name": "ProgressStyleModel",
          "state": {
            "_view_name": "StyleView",
            "_model_name": "ProgressStyleModel",
            "description_width": "initial",
            "_view_module": "@jupyter-widgets/base",
            "_model_module_version": "1.5.0",
            "_view_count": null,
            "_view_module_version": "1.2.0",
            "bar_color": null,
            "_model_module": "@jupyter-widgets/controls"
          }
        },
        "b1ab5cd398a44b238abc975291df663b": {
          "model_module": "@jupyter-widgets/base",
          "model_name": "LayoutModel",
          "state": {
            "_view_name": "LayoutView",
            "grid_template_rows": null,
            "right": null,
            "justify_content": null,
            "_view_module": "@jupyter-widgets/base",
            "overflow": null,
            "_model_module_version": "1.2.0",
            "_view_count": null,
            "flex_flow": null,
            "width": null,
            "min_width": null,
            "border": null,
            "align_items": null,
            "bottom": null,
            "_model_module": "@jupyter-widgets/base",
            "top": null,
            "grid_column": null,
            "overflow_y": null,
            "overflow_x": null,
            "grid_auto_flow": null,
            "grid_area": null,
            "grid_template_columns": null,
            "flex": null,
            "_model_name": "LayoutModel",
            "justify_items": null,
            "grid_row": null,
            "max_height": null,
            "align_content": null,
            "visibility": null,
            "align_self": null,
            "height": null,
            "min_height": null,
            "padding": null,
            "grid_auto_rows": null,
            "grid_gap": null,
            "max_width": null,
            "order": null,
            "_view_module_version": "1.2.0",
            "grid_template_areas": null,
            "object_position": null,
            "object_fit": null,
            "grid_auto_columns": null,
            "margin": null,
            "display": null,
            "left": null
          }
        },
        "3636c4ffe90544319c9f0fcfed0ac525": {
          "model_module": "@jupyter-widgets/controls",
          "model_name": "DescriptionStyleModel",
          "state": {
            "_view_name": "StyleView",
            "_model_name": "DescriptionStyleModel",
            "description_width": "",
            "_view_module": "@jupyter-widgets/base",
            "_model_module_version": "1.5.0",
            "_view_count": null,
            "_view_module_version": "1.2.0",
            "_model_module": "@jupyter-widgets/controls"
          }
        },
        "2db5d8266d0d42979fcc61e497bf8fbf": {
          "model_module": "@jupyter-widgets/base",
          "model_name": "LayoutModel",
          "state": {
            "_view_name": "LayoutView",
            "grid_template_rows": null,
            "right": null,
            "justify_content": null,
            "_view_module": "@jupyter-widgets/base",
            "overflow": null,
            "_model_module_version": "1.2.0",
            "_view_count": null,
            "flex_flow": null,
            "width": null,
            "min_width": null,
            "border": null,
            "align_items": null,
            "bottom": null,
            "_model_module": "@jupyter-widgets/base",
            "top": null,
            "grid_column": null,
            "overflow_y": null,
            "overflow_x": null,
            "grid_auto_flow": null,
            "grid_area": null,
            "grid_template_columns": null,
            "flex": null,
            "_model_name": "LayoutModel",
            "justify_items": null,
            "grid_row": null,
            "max_height": null,
            "align_content": null,
            "visibility": null,
            "align_self": null,
            "height": null,
            "min_height": null,
            "padding": null,
            "grid_auto_rows": null,
            "grid_gap": null,
            "max_width": null,
            "order": null,
            "_view_module_version": "1.2.0",
            "grid_template_areas": null,
            "object_position": null,
            "object_fit": null,
            "grid_auto_columns": null,
            "margin": null,
            "display": null,
            "left": null
          }
        },
        "9acdfcf6208d46ab850b6c6240a733e6": {
          "model_module": "@jupyter-widgets/controls",
          "model_name": "HBoxModel",
          "state": {
            "_view_name": "HBoxView",
            "_dom_classes": [],
            "_model_name": "HBoxModel",
            "_view_module": "@jupyter-widgets/controls",
            "_model_module_version": "1.5.0",
            "_view_count": null,
            "_view_module_version": "1.5.0",
            "box_style": "",
            "layout": "IPY_MODEL_70f0484d29cd4fae8ca8c5d75e177f6a",
            "_model_module": "@jupyter-widgets/controls",
            "children": [
              "IPY_MODEL_b9f32e72ea9f4023a79b63ee9f56454e",
              "IPY_MODEL_b6f7ed35f90a476f93afcf18d1ffc921"
            ]
          }
        },
        "70f0484d29cd4fae8ca8c5d75e177f6a": {
          "model_module": "@jupyter-widgets/base",
          "model_name": "LayoutModel",
          "state": {
            "_view_name": "LayoutView",
            "grid_template_rows": null,
            "right": null,
            "justify_content": null,
            "_view_module": "@jupyter-widgets/base",
            "overflow": null,
            "_model_module_version": "1.2.0",
            "_view_count": null,
            "flex_flow": null,
            "width": null,
            "min_width": null,
            "border": null,
            "align_items": null,
            "bottom": null,
            "_model_module": "@jupyter-widgets/base",
            "top": null,
            "grid_column": null,
            "overflow_y": null,
            "overflow_x": null,
            "grid_auto_flow": null,
            "grid_area": null,
            "grid_template_columns": null,
            "flex": null,
            "_model_name": "LayoutModel",
            "justify_items": null,
            "grid_row": null,
            "max_height": null,
            "align_content": null,
            "visibility": null,
            "align_self": null,
            "height": null,
            "min_height": null,
            "padding": null,
            "grid_auto_rows": null,
            "grid_gap": null,
            "max_width": null,
            "order": null,
            "_view_module_version": "1.2.0",
            "grid_template_areas": null,
            "object_position": null,
            "object_fit": null,
            "grid_auto_columns": null,
            "margin": null,
            "display": null,
            "left": null
          }
        },
        "b9f32e72ea9f4023a79b63ee9f56454e": {
          "model_module": "@jupyter-widgets/controls",
          "model_name": "IntProgressModel",
          "state": {
            "_view_name": "ProgressView",
            "style": "IPY_MODEL_42637a13fd0a471b82d291d9f66cfbc1",
            "_dom_classes": [],
            "description": "100%",
            "_model_name": "IntProgressModel",
            "bar_style": "success",
            "max": 200,
            "_view_module": "@jupyter-widgets/controls",
            "_model_module_version": "1.5.0",
            "value": 200,
            "_view_count": null,
            "_view_module_version": "1.5.0",
            "orientation": "horizontal",
            "min": 0,
            "description_tooltip": null,
            "_model_module": "@jupyter-widgets/controls",
            "layout": "IPY_MODEL_5caa2238d74a45199d86fb4a0318afe1"
          }
        },
        "b6f7ed35f90a476f93afcf18d1ffc921": {
          "model_module": "@jupyter-widgets/controls",
          "model_name": "HTMLModel",
          "state": {
            "_view_name": "HTMLView",
            "style": "IPY_MODEL_bac144c2996f4ff3b6138490fa3224cc",
            "_dom_classes": [],
            "description": "",
            "_model_name": "HTMLModel",
            "placeholder": "​",
            "_view_module": "@jupyter-widgets/controls",
            "_model_module_version": "1.5.0",
            "value": " 200/200 [44:10&lt;00:00, 13.25s/it]",
            "_view_count": null,
            "_view_module_version": "1.5.0",
            "description_tooltip": null,
            "_model_module": "@jupyter-widgets/controls",
            "layout": "IPY_MODEL_db8c6032c7d5431c80c95726d50f5a19"
          }
        },
        "42637a13fd0a471b82d291d9f66cfbc1": {
          "model_module": "@jupyter-widgets/controls",
          "model_name": "ProgressStyleModel",
          "state": {
            "_view_name": "StyleView",
            "_model_name": "ProgressStyleModel",
            "description_width": "initial",
            "_view_module": "@jupyter-widgets/base",
            "_model_module_version": "1.5.0",
            "_view_count": null,
            "_view_module_version": "1.2.0",
            "bar_color": null,
            "_model_module": "@jupyter-widgets/controls"
          }
        },
        "5caa2238d74a45199d86fb4a0318afe1": {
          "model_module": "@jupyter-widgets/base",
          "model_name": "LayoutModel",
          "state": {
            "_view_name": "LayoutView",
            "grid_template_rows": null,
            "right": null,
            "justify_content": null,
            "_view_module": "@jupyter-widgets/base",
            "overflow": null,
            "_model_module_version": "1.2.0",
            "_view_count": null,
            "flex_flow": null,
            "width": null,
            "min_width": null,
            "border": null,
            "align_items": null,
            "bottom": null,
            "_model_module": "@jupyter-widgets/base",
            "top": null,
            "grid_column": null,
            "overflow_y": null,
            "overflow_x": null,
            "grid_auto_flow": null,
            "grid_area": null,
            "grid_template_columns": null,
            "flex": null,
            "_model_name": "LayoutModel",
            "justify_items": null,
            "grid_row": null,
            "max_height": null,
            "align_content": null,
            "visibility": null,
            "align_self": null,
            "height": null,
            "min_height": null,
            "padding": null,
            "grid_auto_rows": null,
            "grid_gap": null,
            "max_width": null,
            "order": null,
            "_view_module_version": "1.2.0",
            "grid_template_areas": null,
            "object_position": null,
            "object_fit": null,
            "grid_auto_columns": null,
            "margin": null,
            "display": null,
            "left": null
          }
        },
        "bac144c2996f4ff3b6138490fa3224cc": {
          "model_module": "@jupyter-widgets/controls",
          "model_name": "DescriptionStyleModel",
          "state": {
            "_view_name": "StyleView",
            "_model_name": "DescriptionStyleModel",
            "description_width": "",
            "_view_module": "@jupyter-widgets/base",
            "_model_module_version": "1.5.0",
            "_view_count": null,
            "_view_module_version": "1.2.0",
            "_model_module": "@jupyter-widgets/controls"
          }
        },
        "db8c6032c7d5431c80c95726d50f5a19": {
          "model_module": "@jupyter-widgets/base",
          "model_name": "LayoutModel",
          "state": {
            "_view_name": "LayoutView",
            "grid_template_rows": null,
            "right": null,
            "justify_content": null,
            "_view_module": "@jupyter-widgets/base",
            "overflow": null,
            "_model_module_version": "1.2.0",
            "_view_count": null,
            "flex_flow": null,
            "width": null,
            "min_width": null,
            "border": null,
            "align_items": null,
            "bottom": null,
            "_model_module": "@jupyter-widgets/base",
            "top": null,
            "grid_column": null,
            "overflow_y": null,
            "overflow_x": null,
            "grid_auto_flow": null,
            "grid_area": null,
            "grid_template_columns": null,
            "flex": null,
            "_model_name": "LayoutModel",
            "justify_items": null,
            "grid_row": null,
            "max_height": null,
            "align_content": null,
            "visibility": null,
            "align_self": null,
            "height": null,
            "min_height": null,
            "padding": null,
            "grid_auto_rows": null,
            "grid_gap": null,
            "max_width": null,
            "order": null,
            "_view_module_version": "1.2.0",
            "grid_template_areas": null,
            "object_position": null,
            "object_fit": null,
            "grid_auto_columns": null,
            "margin": null,
            "display": null,
            "left": null
          }
        }
      }
    },
    "accelerator": "GPU"
  },
  "cells": [
    {
      "cell_type": "markdown",
      "metadata": {
        "id": "view-in-github",
        "colab_type": "text"
      },
      "source": [
        "<a href=\"https://colab.research.google.com/github/sowmen/Deepfake-Challenge-Kaggle/blob/master/Logistic_Network_Baseline.ipynb\" target=\"_parent\"><img src=\"https://colab.research.google.com/assets/colab-badge.svg\" alt=\"Open In Colab\"/></a>"
      ]
    },
    {
      "cell_type": "code",
      "metadata": {
        "id": "rl3SGw_CbUV3",
        "colab_type": "code",
        "outputId": "0b4b2227-cefe-46c1-b70b-7140035cdfea",
        "colab": {
          "base_uri": "https://localhost:8080/",
          "height": 122
        }
      },
      "source": [
        "from google.colab import drive\n",
        "drive.mount('/content/drive')"
      ],
      "execution_count": 0,
      "outputs": [
        {
          "output_type": "stream",
          "text": [
            "Go to this URL in a browser: https://accounts.google.com/o/oauth2/auth?client_id=947318989803-6bn6qk8qdgf4n4g3pfee6491hc0brc4i.apps.googleusercontent.com&redirect_uri=urn%3aietf%3awg%3aoauth%3a2.0%3aoob&response_type=code&scope=email%20https%3a%2f%2fwww.googleapis.com%2fauth%2fdocs.test%20https%3a%2f%2fwww.googleapis.com%2fauth%2fdrive%20https%3a%2f%2fwww.googleapis.com%2fauth%2fdrive.photos.readonly%20https%3a%2f%2fwww.googleapis.com%2fauth%2fpeopleapi.readonly\n",
            "\n",
            "Enter your authorization code:\n",
            "··········\n",
            "Mounted at /content/drive\n"
          ],
          "name": "stdout"
        }
      ]
    },
    {
      "cell_type": "code",
      "metadata": {
        "id": "rZDM0YpteP4h",
        "colab_type": "code",
        "colab": {}
      },
      "source": [
        "import numpy as np\n",
        "import pandas as pd\n",
        "import matplotlib.pyplot as plt\n",
        "import gc\n",
        "import os, sys, time\n",
        "import math\n",
        "import random\n",
        "import cv2\n",
        "from tqdm import tqdm_notebook as tqdm\n",
        "import pickle \n",
        "\n",
        "%matplotlib inline\n",
        "pd.set_option('max_colwidth', None)\n",
        "\n",
        "import warnings\n",
        "warnings.filterwarnings('ignore')"
      ],
      "execution_count": 0,
      "outputs": []
    },
    {
      "cell_type": "markdown",
      "metadata": {
        "id": "b2NIVnMJg7Xv",
        "colab_type": "text"
      },
      "source": [
        "# **Data Creation**"
      ]
    },
    {
      "cell_type": "code",
      "metadata": {
        "id": "jpQOrA9Ce0si",
        "colab_type": "code",
        "colab": {}
      },
      "source": [
        "df1 = pd.read_csv('/content/drive/My Drive/dataset_0_22.csv')\n",
        "df2 = pd.read_csv('/content/drive/My Drive/dataset_23_40.csv')"
      ],
      "execution_count": 0,
      "outputs": []
    },
    {
      "cell_type": "code",
      "metadata": {
        "id": "2lhjUD_CfN2x",
        "colab_type": "code",
        "outputId": "a306a1aa-a57f-4f18-8e5f-3df4f9e0d43a",
        "colab": {
          "base_uri": "https://localhost:8080/",
          "height": 419
        }
      },
      "source": [
        "df1"
      ],
      "execution_count": 0,
      "outputs": [
        {
          "output_type": "execute_result",
          "data": {
            "text/html": [
              "<div>\n",
              "<style scoped>\n",
              "    .dataframe tbody tr th:only-of-type {\n",
              "        vertical-align: middle;\n",
              "    }\n",
              "\n",
              "    .dataframe tbody tr th {\n",
              "        vertical-align: top;\n",
              "    }\n",
              "\n",
              "    .dataframe thead th {\n",
              "        text-align: right;\n",
              "    }\n",
              "</style>\n",
              "<table border=\"1\" class=\"dataframe\">\n",
              "  <thead>\n",
              "    <tr style=\"text-align: right;\">\n",
              "      <th></th>\n",
              "      <th>filename</th>\n",
              "      <th>label</th>\n",
              "      <th>split</th>\n",
              "      <th>original</th>\n",
              "      <th>video_path</th>\n",
              "    </tr>\n",
              "  </thead>\n",
              "  <tbody>\n",
              "    <tr>\n",
              "      <th>0</th>\n",
              "      <td>owxbbpjpch.mp4</td>\n",
              "      <td>1</td>\n",
              "      <td>train</td>\n",
              "      <td>wynotylpnm.mp4</td>\n",
              "      <td>/content/drive/My Drive/Dataset/dfdc_train_part_0/owxbbpjpch.mp4</td>\n",
              "    </tr>\n",
              "    <tr>\n",
              "      <th>1</th>\n",
              "      <td>vpmyeepbep.mp4</td>\n",
              "      <td>0</td>\n",
              "      <td>train</td>\n",
              "      <td>NaN</td>\n",
              "      <td>/content/drive/My Drive/Dataset/dfdc_train_part_0/vpmyeepbep.mp4</td>\n",
              "    </tr>\n",
              "    <tr>\n",
              "      <th>2</th>\n",
              "      <td>fzvpbrzssi.mp4</td>\n",
              "      <td>0</td>\n",
              "      <td>train</td>\n",
              "      <td>NaN</td>\n",
              "      <td>/content/drive/My Drive/Dataset/dfdc_train_part_0/fzvpbrzssi.mp4</td>\n",
              "    </tr>\n",
              "    <tr>\n",
              "      <th>3</th>\n",
              "      <td>htorvhbcae.mp4</td>\n",
              "      <td>1</td>\n",
              "      <td>train</td>\n",
              "      <td>wclvkepakb.mp4</td>\n",
              "      <td>/content/drive/My Drive/Dataset/dfdc_train_part_0/htorvhbcae.mp4</td>\n",
              "    </tr>\n",
              "    <tr>\n",
              "      <th>4</th>\n",
              "      <td>fckxaqjbxk.mp4</td>\n",
              "      <td>1</td>\n",
              "      <td>train</td>\n",
              "      <td>vpmyeepbep.mp4</td>\n",
              "      <td>/content/drive/My Drive/Dataset/dfdc_train_part_0/fckxaqjbxk.mp4</td>\n",
              "    </tr>\n",
              "    <tr>\n",
              "      <th>...</th>\n",
              "      <td>...</td>\n",
              "      <td>...</td>\n",
              "      <td>...</td>\n",
              "      <td>...</td>\n",
              "      <td>...</td>\n",
              "    </tr>\n",
              "    <tr>\n",
              "      <th>52627</th>\n",
              "      <td>ltyxbyibfh.mp4</td>\n",
              "      <td>0</td>\n",
              "      <td>train</td>\n",
              "      <td>NaN</td>\n",
              "      <td>/content/drive/My Drive/Dataset/dfdc_train_part_22/ltyxbyibfh.mp4</td>\n",
              "    </tr>\n",
              "    <tr>\n",
              "      <th>52628</th>\n",
              "      <td>oxmhtrdqvf.mp4</td>\n",
              "      <td>0</td>\n",
              "      <td>train</td>\n",
              "      <td>NaN</td>\n",
              "      <td>/content/drive/My Drive/Dataset/dfdc_train_part_22/oxmhtrdqvf.mp4</td>\n",
              "    </tr>\n",
              "    <tr>\n",
              "      <th>52629</th>\n",
              "      <td>hkdmxpmewr.mp4</td>\n",
              "      <td>0</td>\n",
              "      <td>train</td>\n",
              "      <td>NaN</td>\n",
              "      <td>/content/drive/My Drive/Dataset/dfdc_train_part_22/hkdmxpmewr.mp4</td>\n",
              "    </tr>\n",
              "    <tr>\n",
              "      <th>52630</th>\n",
              "      <td>kmrjhsbqqy.mp4</td>\n",
              "      <td>1</td>\n",
              "      <td>train</td>\n",
              "      <td>fgrxodoqcr.mp4</td>\n",
              "      <td>/content/drive/My Drive/Dataset/dfdc_train_part_22/kmrjhsbqqy.mp4</td>\n",
              "    </tr>\n",
              "    <tr>\n",
              "      <th>52631</th>\n",
              "      <td>edszrezley.mp4</td>\n",
              "      <td>1</td>\n",
              "      <td>train</td>\n",
              "      <td>nirwqaczoe.mp4</td>\n",
              "      <td>/content/drive/My Drive/Dataset/dfdc_train_part_22/edszrezley.mp4</td>\n",
              "    </tr>\n",
              "  </tbody>\n",
              "</table>\n",
              "<p>52632 rows × 5 columns</p>\n",
              "</div>"
            ],
            "text/plain": [
              "             filename  ...                                                         video_path\n",
              "0      owxbbpjpch.mp4  ...   /content/drive/My Drive/Dataset/dfdc_train_part_0/owxbbpjpch.mp4\n",
              "1      vpmyeepbep.mp4  ...   /content/drive/My Drive/Dataset/dfdc_train_part_0/vpmyeepbep.mp4\n",
              "2      fzvpbrzssi.mp4  ...   /content/drive/My Drive/Dataset/dfdc_train_part_0/fzvpbrzssi.mp4\n",
              "3      htorvhbcae.mp4  ...   /content/drive/My Drive/Dataset/dfdc_train_part_0/htorvhbcae.mp4\n",
              "4      fckxaqjbxk.mp4  ...   /content/drive/My Drive/Dataset/dfdc_train_part_0/fckxaqjbxk.mp4\n",
              "...               ...  ...                                                                ...\n",
              "52627  ltyxbyibfh.mp4  ...  /content/drive/My Drive/Dataset/dfdc_train_part_22/ltyxbyibfh.mp4\n",
              "52628  oxmhtrdqvf.mp4  ...  /content/drive/My Drive/Dataset/dfdc_train_part_22/oxmhtrdqvf.mp4\n",
              "52629  hkdmxpmewr.mp4  ...  /content/drive/My Drive/Dataset/dfdc_train_part_22/hkdmxpmewr.mp4\n",
              "52630  kmrjhsbqqy.mp4  ...  /content/drive/My Drive/Dataset/dfdc_train_part_22/kmrjhsbqqy.mp4\n",
              "52631  edszrezley.mp4  ...  /content/drive/My Drive/Dataset/dfdc_train_part_22/edszrezley.mp4\n",
              "\n",
              "[52632 rows x 5 columns]"
            ]
          },
          "metadata": {
            "tags": []
          },
          "execution_count": 23
        }
      ]
    },
    {
      "cell_type": "code",
      "metadata": {
        "id": "qMQgScaxfQsS",
        "colab_type": "code",
        "outputId": "449e046e-a3e1-4d68-a91b-a714d5b46e6f",
        "colab": {
          "base_uri": "https://localhost:8080/",
          "height": 419
        }
      },
      "source": [
        "df2"
      ],
      "execution_count": 0,
      "outputs": [
        {
          "output_type": "execute_result",
          "data": {
            "text/html": [
              "<div>\n",
              "<style scoped>\n",
              "    .dataframe tbody tr th:only-of-type {\n",
              "        vertical-align: middle;\n",
              "    }\n",
              "\n",
              "    .dataframe tbody tr th {\n",
              "        vertical-align: top;\n",
              "    }\n",
              "\n",
              "    .dataframe thead th {\n",
              "        text-align: right;\n",
              "    }\n",
              "</style>\n",
              "<table border=\"1\" class=\"dataframe\">\n",
              "  <thead>\n",
              "    <tr style=\"text-align: right;\">\n",
              "      <th></th>\n",
              "      <th>filename</th>\n",
              "      <th>label</th>\n",
              "      <th>split</th>\n",
              "      <th>original</th>\n",
              "      <th>video_path</th>\n",
              "    </tr>\n",
              "  </thead>\n",
              "  <tbody>\n",
              "    <tr>\n",
              "      <th>0</th>\n",
              "      <td>ptfpxubayi.mp4</td>\n",
              "      <td>1</td>\n",
              "      <td>train</td>\n",
              "      <td>xqpxxtnryn.mp4</td>\n",
              "      <td>/content/drive/My Drive/Dataset2/dfdc_train_part_23/ptfpxubayi.mp4</td>\n",
              "    </tr>\n",
              "    <tr>\n",
              "      <th>1</th>\n",
              "      <td>uvqiaycegp.mp4</td>\n",
              "      <td>1</td>\n",
              "      <td>train</td>\n",
              "      <td>ooswfaxrxx.mp4</td>\n",
              "      <td>/content/drive/My Drive/Dataset2/dfdc_train_part_23/uvqiaycegp.mp4</td>\n",
              "    </tr>\n",
              "    <tr>\n",
              "      <th>2</th>\n",
              "      <td>wjgieovyyg.mp4</td>\n",
              "      <td>1</td>\n",
              "      <td>train</td>\n",
              "      <td>roricbxvev.mp4</td>\n",
              "      <td>/content/drive/My Drive/Dataset2/dfdc_train_part_23/wjgieovyyg.mp4</td>\n",
              "    </tr>\n",
              "    <tr>\n",
              "      <th>3</th>\n",
              "      <td>blpftgoedo.mp4</td>\n",
              "      <td>1</td>\n",
              "      <td>train</td>\n",
              "      <td>qtlidomjgs.mp4</td>\n",
              "      <td>/content/drive/My Drive/Dataset2/dfdc_train_part_23/blpftgoedo.mp4</td>\n",
              "    </tr>\n",
              "    <tr>\n",
              "      <th>4</th>\n",
              "      <td>twjcgqwjua.mp4</td>\n",
              "      <td>1</td>\n",
              "      <td>train</td>\n",
              "      <td>przmougwsm.mp4</td>\n",
              "      <td>/content/drive/My Drive/Dataset2/dfdc_train_part_23/twjcgqwjua.mp4</td>\n",
              "    </tr>\n",
              "    <tr>\n",
              "      <th>...</th>\n",
              "      <td>...</td>\n",
              "      <td>...</td>\n",
              "      <td>...</td>\n",
              "      <td>...</td>\n",
              "      <td>...</td>\n",
              "    </tr>\n",
              "    <tr>\n",
              "      <th>44141</th>\n",
              "      <td>jfihvhrjyr.mp4</td>\n",
              "      <td>1</td>\n",
              "      <td>train</td>\n",
              "      <td>qllhpepyum.mp4</td>\n",
              "      <td>/content/drive/My Drive/Dataset2/dfdc_train_part_40/jfihvhrjyr.mp4</td>\n",
              "    </tr>\n",
              "    <tr>\n",
              "      <th>44142</th>\n",
              "      <td>xgqerzezcm.mp4</td>\n",
              "      <td>0</td>\n",
              "      <td>train</td>\n",
              "      <td>NaN</td>\n",
              "      <td>/content/drive/My Drive/Dataset2/dfdc_train_part_40/xgqerzezcm.mp4</td>\n",
              "    </tr>\n",
              "    <tr>\n",
              "      <th>44143</th>\n",
              "      <td>hsxhkffniw.mp4</td>\n",
              "      <td>1</td>\n",
              "      <td>train</td>\n",
              "      <td>cxvctggwxi.mp4</td>\n",
              "      <td>/content/drive/My Drive/Dataset2/dfdc_train_part_40/hsxhkffniw.mp4</td>\n",
              "    </tr>\n",
              "    <tr>\n",
              "      <th>44144</th>\n",
              "      <td>bqyybmnxmk.mp4</td>\n",
              "      <td>1</td>\n",
              "      <td>train</td>\n",
              "      <td>zukdhmubyy.mp4</td>\n",
              "      <td>/content/drive/My Drive/Dataset2/dfdc_train_part_40/bqyybmnxmk.mp4</td>\n",
              "    </tr>\n",
              "    <tr>\n",
              "      <th>44145</th>\n",
              "      <td>syyzlkofif.mp4</td>\n",
              "      <td>1</td>\n",
              "      <td>train</td>\n",
              "      <td>xgqerzezcm.mp4</td>\n",
              "      <td>/content/drive/My Drive/Dataset2/dfdc_train_part_40/syyzlkofif.mp4</td>\n",
              "    </tr>\n",
              "  </tbody>\n",
              "</table>\n",
              "<p>44146 rows × 5 columns</p>\n",
              "</div>"
            ],
            "text/plain": [
              "             filename  ...                                                          video_path\n",
              "0      ptfpxubayi.mp4  ...  /content/drive/My Drive/Dataset2/dfdc_train_part_23/ptfpxubayi.mp4\n",
              "1      uvqiaycegp.mp4  ...  /content/drive/My Drive/Dataset2/dfdc_train_part_23/uvqiaycegp.mp4\n",
              "2      wjgieovyyg.mp4  ...  /content/drive/My Drive/Dataset2/dfdc_train_part_23/wjgieovyyg.mp4\n",
              "3      blpftgoedo.mp4  ...  /content/drive/My Drive/Dataset2/dfdc_train_part_23/blpftgoedo.mp4\n",
              "4      twjcgqwjua.mp4  ...  /content/drive/My Drive/Dataset2/dfdc_train_part_23/twjcgqwjua.mp4\n",
              "...               ...  ...                                                                 ...\n",
              "44141  jfihvhrjyr.mp4  ...  /content/drive/My Drive/Dataset2/dfdc_train_part_40/jfihvhrjyr.mp4\n",
              "44142  xgqerzezcm.mp4  ...  /content/drive/My Drive/Dataset2/dfdc_train_part_40/xgqerzezcm.mp4\n",
              "44143  hsxhkffniw.mp4  ...  /content/drive/My Drive/Dataset2/dfdc_train_part_40/hsxhkffniw.mp4\n",
              "44144  bqyybmnxmk.mp4  ...  /content/drive/My Drive/Dataset2/dfdc_train_part_40/bqyybmnxmk.mp4\n",
              "44145  syyzlkofif.mp4  ...  /content/drive/My Drive/Dataset2/dfdc_train_part_40/syyzlkofif.mp4\n",
              "\n",
              "[44146 rows x 5 columns]"
            ]
          },
          "metadata": {
            "tags": []
          },
          "execution_count": 24
        }
      ]
    },
    {
      "cell_type": "code",
      "metadata": {
        "id": "aFyyAoHphbih",
        "colab_type": "code",
        "outputId": "6da1c830-beed-46c3-c79a-7aacce6a25a3",
        "colab": {
          "base_uri": "https://localhost:8080/",
          "height": 419
        }
      },
      "source": [
        "train_df = pd.concat([df1, df2], ignore_index=True)\n",
        "train_df"
      ],
      "execution_count": 0,
      "outputs": [
        {
          "output_type": "execute_result",
          "data": {
            "text/html": [
              "<div>\n",
              "<style scoped>\n",
              "    .dataframe tbody tr th:only-of-type {\n",
              "        vertical-align: middle;\n",
              "    }\n",
              "\n",
              "    .dataframe tbody tr th {\n",
              "        vertical-align: top;\n",
              "    }\n",
              "\n",
              "    .dataframe thead th {\n",
              "        text-align: right;\n",
              "    }\n",
              "</style>\n",
              "<table border=\"1\" class=\"dataframe\">\n",
              "  <thead>\n",
              "    <tr style=\"text-align: right;\">\n",
              "      <th></th>\n",
              "      <th>filename</th>\n",
              "      <th>label</th>\n",
              "      <th>split</th>\n",
              "      <th>original</th>\n",
              "      <th>video_path</th>\n",
              "    </tr>\n",
              "  </thead>\n",
              "  <tbody>\n",
              "    <tr>\n",
              "      <th>0</th>\n",
              "      <td>owxbbpjpch.mp4</td>\n",
              "      <td>1</td>\n",
              "      <td>train</td>\n",
              "      <td>wynotylpnm.mp4</td>\n",
              "      <td>/content/drive/My Drive/Dataset/dfdc_train_part_0/owxbbpjpch.mp4</td>\n",
              "    </tr>\n",
              "    <tr>\n",
              "      <th>1</th>\n",
              "      <td>vpmyeepbep.mp4</td>\n",
              "      <td>0</td>\n",
              "      <td>train</td>\n",
              "      <td>NaN</td>\n",
              "      <td>/content/drive/My Drive/Dataset/dfdc_train_part_0/vpmyeepbep.mp4</td>\n",
              "    </tr>\n",
              "    <tr>\n",
              "      <th>2</th>\n",
              "      <td>fzvpbrzssi.mp4</td>\n",
              "      <td>0</td>\n",
              "      <td>train</td>\n",
              "      <td>NaN</td>\n",
              "      <td>/content/drive/My Drive/Dataset/dfdc_train_part_0/fzvpbrzssi.mp4</td>\n",
              "    </tr>\n",
              "    <tr>\n",
              "      <th>3</th>\n",
              "      <td>htorvhbcae.mp4</td>\n",
              "      <td>1</td>\n",
              "      <td>train</td>\n",
              "      <td>wclvkepakb.mp4</td>\n",
              "      <td>/content/drive/My Drive/Dataset/dfdc_train_part_0/htorvhbcae.mp4</td>\n",
              "    </tr>\n",
              "    <tr>\n",
              "      <th>4</th>\n",
              "      <td>fckxaqjbxk.mp4</td>\n",
              "      <td>1</td>\n",
              "      <td>train</td>\n",
              "      <td>vpmyeepbep.mp4</td>\n",
              "      <td>/content/drive/My Drive/Dataset/dfdc_train_part_0/fckxaqjbxk.mp4</td>\n",
              "    </tr>\n",
              "    <tr>\n",
              "      <th>...</th>\n",
              "      <td>...</td>\n",
              "      <td>...</td>\n",
              "      <td>...</td>\n",
              "      <td>...</td>\n",
              "      <td>...</td>\n",
              "    </tr>\n",
              "    <tr>\n",
              "      <th>96773</th>\n",
              "      <td>jfihvhrjyr.mp4</td>\n",
              "      <td>1</td>\n",
              "      <td>train</td>\n",
              "      <td>qllhpepyum.mp4</td>\n",
              "      <td>/content/drive/My Drive/Dataset2/dfdc_train_part_40/jfihvhrjyr.mp4</td>\n",
              "    </tr>\n",
              "    <tr>\n",
              "      <th>96774</th>\n",
              "      <td>xgqerzezcm.mp4</td>\n",
              "      <td>0</td>\n",
              "      <td>train</td>\n",
              "      <td>NaN</td>\n",
              "      <td>/content/drive/My Drive/Dataset2/dfdc_train_part_40/xgqerzezcm.mp4</td>\n",
              "    </tr>\n",
              "    <tr>\n",
              "      <th>96775</th>\n",
              "      <td>hsxhkffniw.mp4</td>\n",
              "      <td>1</td>\n",
              "      <td>train</td>\n",
              "      <td>cxvctggwxi.mp4</td>\n",
              "      <td>/content/drive/My Drive/Dataset2/dfdc_train_part_40/hsxhkffniw.mp4</td>\n",
              "    </tr>\n",
              "    <tr>\n",
              "      <th>96776</th>\n",
              "      <td>bqyybmnxmk.mp4</td>\n",
              "      <td>1</td>\n",
              "      <td>train</td>\n",
              "      <td>zukdhmubyy.mp4</td>\n",
              "      <td>/content/drive/My Drive/Dataset2/dfdc_train_part_40/bqyybmnxmk.mp4</td>\n",
              "    </tr>\n",
              "    <tr>\n",
              "      <th>96777</th>\n",
              "      <td>syyzlkofif.mp4</td>\n",
              "      <td>1</td>\n",
              "      <td>train</td>\n",
              "      <td>xgqerzezcm.mp4</td>\n",
              "      <td>/content/drive/My Drive/Dataset2/dfdc_train_part_40/syyzlkofif.mp4</td>\n",
              "    </tr>\n",
              "  </tbody>\n",
              "</table>\n",
              "<p>96778 rows × 5 columns</p>\n",
              "</div>"
            ],
            "text/plain": [
              "             filename  ...                                                          video_path\n",
              "0      owxbbpjpch.mp4  ...    /content/drive/My Drive/Dataset/dfdc_train_part_0/owxbbpjpch.mp4\n",
              "1      vpmyeepbep.mp4  ...    /content/drive/My Drive/Dataset/dfdc_train_part_0/vpmyeepbep.mp4\n",
              "2      fzvpbrzssi.mp4  ...    /content/drive/My Drive/Dataset/dfdc_train_part_0/fzvpbrzssi.mp4\n",
              "3      htorvhbcae.mp4  ...    /content/drive/My Drive/Dataset/dfdc_train_part_0/htorvhbcae.mp4\n",
              "4      fckxaqjbxk.mp4  ...    /content/drive/My Drive/Dataset/dfdc_train_part_0/fckxaqjbxk.mp4\n",
              "...               ...  ...                                                                 ...\n",
              "96773  jfihvhrjyr.mp4  ...  /content/drive/My Drive/Dataset2/dfdc_train_part_40/jfihvhrjyr.mp4\n",
              "96774  xgqerzezcm.mp4  ...  /content/drive/My Drive/Dataset2/dfdc_train_part_40/xgqerzezcm.mp4\n",
              "96775  hsxhkffniw.mp4  ...  /content/drive/My Drive/Dataset2/dfdc_train_part_40/hsxhkffniw.mp4\n",
              "96776  bqyybmnxmk.mp4  ...  /content/drive/My Drive/Dataset2/dfdc_train_part_40/bqyybmnxmk.mp4\n",
              "96777  syyzlkofif.mp4  ...  /content/drive/My Drive/Dataset2/dfdc_train_part_40/syyzlkofif.mp4\n",
              "\n",
              "[96778 rows x 5 columns]"
            ]
          },
          "metadata": {
            "tags": []
          },
          "execution_count": 25
        }
      ]
    },
    {
      "cell_type": "code",
      "metadata": {
        "id": "PXpy0H-jkHBd",
        "colab_type": "code",
        "outputId": "9fb80ae6-4a66-44ee-cefa-d1e4f8afb3c4",
        "colab": {
          "base_uri": "https://localhost:8080/",
          "height": 406
        }
      },
      "source": [
        "train_df.hist(column=\"label\")\n",
        "train_df.groupby('label').count()"
      ],
      "execution_count": 0,
      "outputs": [
        {
          "output_type": "execute_result",
          "data": {
            "text/html": [
              "<div>\n",
              "<style scoped>\n",
              "    .dataframe tbody tr th:only-of-type {\n",
              "        vertical-align: middle;\n",
              "    }\n",
              "\n",
              "    .dataframe tbody tr th {\n",
              "        vertical-align: top;\n",
              "    }\n",
              "\n",
              "    .dataframe thead th {\n",
              "        text-align: right;\n",
              "    }\n",
              "</style>\n",
              "<table border=\"1\" class=\"dataframe\">\n",
              "  <thead>\n",
              "    <tr style=\"text-align: right;\">\n",
              "      <th></th>\n",
              "      <th>filename</th>\n",
              "      <th>split</th>\n",
              "      <th>original</th>\n",
              "      <th>video_path</th>\n",
              "    </tr>\n",
              "    <tr>\n",
              "      <th>label</th>\n",
              "      <th></th>\n",
              "      <th></th>\n",
              "      <th></th>\n",
              "      <th></th>\n",
              "    </tr>\n",
              "  </thead>\n",
              "  <tbody>\n",
              "    <tr>\n",
              "      <th>0</th>\n",
              "      <td>15281</td>\n",
              "      <td>15281</td>\n",
              "      <td>0</td>\n",
              "      <td>15281</td>\n",
              "    </tr>\n",
              "    <tr>\n",
              "      <th>1</th>\n",
              "      <td>81497</td>\n",
              "      <td>81497</td>\n",
              "      <td>81497</td>\n",
              "      <td>81497</td>\n",
              "    </tr>\n",
              "  </tbody>\n",
              "</table>\n",
              "</div>"
            ],
            "text/plain": [
              "       filename  split  original  video_path\n",
              "label                                       \n",
              "0         15281  15281         0       15281\n",
              "1         81497  81497     81497       81497"
            ]
          },
          "metadata": {
            "tags": []
          },
          "execution_count": 26
        },
        {
          "output_type": "display_data",
          "data": {
            "image/png": "[encoded data removed]",
            "text/plain": [
              "<Figure size 432x288 with 1 Axes>"
            ]
          },
          "metadata": {
            "tags": [],
            "needs_background": "light"
          }
        }
      ]
    },
    {
      "cell_type": "code",
      "metadata": {
        "id": "N_HFP8sAl_7N",
        "colab_type": "code",
        "outputId": "ba236ac3-ed38-48e0-fd3e-ae7cc3fb7e13",
        "colab": {
          "base_uri": "https://localhost:8080/",
          "height": 419
        }
      },
      "source": [
        "s0 = train_df.label[train_df.label.eq(0)].sample(100).index\n",
        "s1 = train_df.label[train_df.label.eq(1)].sample(100).index \n",
        "sample_df = train_df.loc[s0.union(s1)]\n",
        "sample_df"
      ],
      "execution_count": 0,
      "outputs": [
        {
          "output_type": "execute_result",
          "data": {
            "text/html": [
              "<div>\n",
              "<style scoped>\n",
              "    .dataframe tbody tr th:only-of-type {\n",
              "        vertical-align: middle;\n",
              "    }\n",
              "\n",
              "    .dataframe tbody tr th {\n",
              "        vertical-align: top;\n",
              "    }\n",
              "\n",
              "    .dataframe thead th {\n",
              "        text-align: right;\n",
              "    }\n",
              "</style>\n",
              "<table border=\"1\" class=\"dataframe\">\n",
              "  <thead>\n",
              "    <tr style=\"text-align: right;\">\n",
              "      <th></th>\n",
              "      <th>filename</th>\n",
              "      <th>label</th>\n",
              "      <th>split</th>\n",
              "      <th>original</th>\n",
              "      <th>video_path</th>\n",
              "    </tr>\n",
              "  </thead>\n",
              "  <tbody>\n",
              "    <tr>\n",
              "      <th>483</th>\n",
              "      <td>vstmxsekmm.mp4</td>\n",
              "      <td>1</td>\n",
              "      <td>train</td>\n",
              "      <td>gvasarkpfh.mp4</td>\n",
              "      <td>/content/drive/My Drive/Dataset/dfdc_train_part_0/vstmxsekmm.mp4</td>\n",
              "    </tr>\n",
              "    <tr>\n",
              "      <th>922</th>\n",
              "      <td>pzdfwdnmyx.mp4</td>\n",
              "      <td>1</td>\n",
              "      <td>train</td>\n",
              "      <td>lsmnqsnqld.mp4</td>\n",
              "      <td>/content/drive/My Drive/Dataset/dfdc_train_part_0/pzdfwdnmyx.mp4</td>\n",
              "    </tr>\n",
              "    <tr>\n",
              "      <th>1132</th>\n",
              "      <td>nweufafotd.mp4</td>\n",
              "      <td>0</td>\n",
              "      <td>train</td>\n",
              "      <td>NaN</td>\n",
              "      <td>/content/drive/My Drive/Dataset/dfdc_train_part_0/nweufafotd.mp4</td>\n",
              "    </tr>\n",
              "    <tr>\n",
              "      <th>1219</th>\n",
              "      <td>kqlvggiqee.mp4</td>\n",
              "      <td>0</td>\n",
              "      <td>train</td>\n",
              "      <td>NaN</td>\n",
              "      <td>/content/drive/My Drive/Dataset/dfdc_train_part_0/kqlvggiqee.mp4</td>\n",
              "    </tr>\n",
              "    <tr>\n",
              "      <th>2243</th>\n",
              "      <td>beoobdybbw.mp4</td>\n",
              "      <td>1</td>\n",
              "      <td>train</td>\n",
              "      <td>gylcfcozce.mp4</td>\n",
              "      <td>/content/drive/My Drive/Dataset/dfdc_train_part_1/beoobdybbw.mp4</td>\n",
              "    </tr>\n",
              "    <tr>\n",
              "      <th>...</th>\n",
              "      <td>...</td>\n",
              "      <td>...</td>\n",
              "      <td>...</td>\n",
              "      <td>...</td>\n",
              "      <td>...</td>\n",
              "    </tr>\n",
              "    <tr>\n",
              "      <th>93445</th>\n",
              "      <td>aedcdpbyhq.mp4</td>\n",
              "      <td>1</td>\n",
              "      <td>train</td>\n",
              "      <td>fdubcqyphb.mp4</td>\n",
              "      <td>/content/drive/My Drive/Dataset2/dfdc_train_part_39/aedcdpbyhq.mp4</td>\n",
              "    </tr>\n",
              "    <tr>\n",
              "      <th>93794</th>\n",
              "      <td>aarrrzwibf.mp4</td>\n",
              "      <td>1</td>\n",
              "      <td>train</td>\n",
              "      <td>lqeprskvea.mp4</td>\n",
              "      <td>/content/drive/My Drive/Dataset2/dfdc_train_part_39/aarrrzwibf.mp4</td>\n",
              "    </tr>\n",
              "    <tr>\n",
              "      <th>94942</th>\n",
              "      <td>upwtmbvqvb.mp4</td>\n",
              "      <td>1</td>\n",
              "      <td>train</td>\n",
              "      <td>vpjwhrkdkj.mp4</td>\n",
              "      <td>/content/drive/My Drive/Dataset2/dfdc_train_part_40/upwtmbvqvb.mp4</td>\n",
              "    </tr>\n",
              "    <tr>\n",
              "      <th>96250</th>\n",
              "      <td>bethubglgn.mp4</td>\n",
              "      <td>0</td>\n",
              "      <td>train</td>\n",
              "      <td>NaN</td>\n",
              "      <td>/content/drive/My Drive/Dataset2/dfdc_train_part_40/bethubglgn.mp4</td>\n",
              "    </tr>\n",
              "    <tr>\n",
              "      <th>96720</th>\n",
              "      <td>ppsuoqqjmh.mp4</td>\n",
              "      <td>1</td>\n",
              "      <td>train</td>\n",
              "      <td>ordjtgafzy.mp4</td>\n",
              "      <td>/content/drive/My Drive/Dataset2/dfdc_train_part_40/ppsuoqqjmh.mp4</td>\n",
              "    </tr>\n",
              "  </tbody>\n",
              "</table>\n",
              "<p>200 rows × 5 columns</p>\n",
              "</div>"
            ],
            "text/plain": [
              "             filename  ...                                                          video_path\n",
              "483    vstmxsekmm.mp4  ...    /content/drive/My Drive/Dataset/dfdc_train_part_0/vstmxsekmm.mp4\n",
              "922    pzdfwdnmyx.mp4  ...    /content/drive/My Drive/Dataset/dfdc_train_part_0/pzdfwdnmyx.mp4\n",
              "1132   nweufafotd.mp4  ...    /content/drive/My Drive/Dataset/dfdc_train_part_0/nweufafotd.mp4\n",
              "1219   kqlvggiqee.mp4  ...    /content/drive/My Drive/Dataset/dfdc_train_part_0/kqlvggiqee.mp4\n",
              "2243   beoobdybbw.mp4  ...    /content/drive/My Drive/Dataset/dfdc_train_part_1/beoobdybbw.mp4\n",
              "...               ...  ...                                                                 ...\n",
              "93445  aedcdpbyhq.mp4  ...  /content/drive/My Drive/Dataset2/dfdc_train_part_39/aedcdpbyhq.mp4\n",
              "93794  aarrrzwibf.mp4  ...  /content/drive/My Drive/Dataset2/dfdc_train_part_39/aarrrzwibf.mp4\n",
              "94942  upwtmbvqvb.mp4  ...  /content/drive/My Drive/Dataset2/dfdc_train_part_40/upwtmbvqvb.mp4\n",
              "96250  bethubglgn.mp4  ...  /content/drive/My Drive/Dataset2/dfdc_train_part_40/bethubglgn.mp4\n",
              "96720  ppsuoqqjmh.mp4  ...  /content/drive/My Drive/Dataset2/dfdc_train_part_40/ppsuoqqjmh.mp4\n",
              "\n",
              "[200 rows x 5 columns]"
            ]
          },
          "metadata": {
            "tags": []
          },
          "execution_count": 27
        }
      ]
    },
    {
      "cell_type": "markdown",
      "metadata": {
        "id": "YibEdARvhM7C",
        "colab_type": "text"
      },
      "source": [
        "# **Data Load**"
      ]
    },
    {
      "cell_type": "code",
      "metadata": {
        "id": "JNNJtosJ-LpQ",
        "colab_type": "code",
        "colab": {}
      },
      "source": [
        "sample_df = pd.read_csv('/content/drive/My Drive/100_2.csv')"
      ],
      "execution_count": 0,
      "outputs": []
    },
    {
      "cell_type": "code",
      "metadata": {
        "id": "D5TSjWHQrjPr",
        "colab_type": "code",
        "outputId": "f4086abc-31a9-44a9-a200-337f19180f94",
        "colab": {
          "base_uri": "https://localhost:8080/",
          "height": 71
        }
      },
      "source": [
        "real_dir = [f for f in sample_df.video_path if sample_df.loc[sample_df.video_path == f].label.item() == 0]\n",
        "fake_dir = [f for f in sample_df.video_path if sample_df.loc[sample_df.video_path == f].label.item() == 1]\n",
        "print(real_dir[0:5])\n",
        "print(fake_dir[0:5])\n",
        "\n",
        "video_dir = []\n",
        "for f in real_dir:\n",
        "    video_dir.append((f,0))\n",
        "for f in fake_dir:\n",
        "    video_dir.append((f,1))\n",
        "\n",
        "random.shuffle(video_dir)"
      ],
      "execution_count": 0,
      "outputs": [
        {
          "output_type": "stream",
          "text": [
            "['/content/drive/My Drive/Dataset/dfdc_train_part_0/nweufafotd.mp4', '/content/drive/My Drive/Dataset/dfdc_train_part_0/kqlvggiqee.mp4', '/content/drive/My Drive/Dataset/dfdc_train_part_2/rbhecseopz.mp4', '/content/drive/My Drive/Dataset/dfdc_train_part_2/yrxljghbmn.mp4', '/content/drive/My Drive/Dataset/dfdc_train_part_2/iweugtdrpv.mp4']\n",
            "['/content/drive/My Drive/Dataset/dfdc_train_part_0/vstmxsekmm.mp4', '/content/drive/My Drive/Dataset/dfdc_train_part_0/pzdfwdnmyx.mp4', '/content/drive/My Drive/Dataset/dfdc_train_part_1/beoobdybbw.mp4', '/content/drive/My Drive/Dataset/dfdc_train_part_2/rxhklivqeh.mp4', '/content/drive/My Drive/Dataset/dfdc_train_part_2/zsfpyhgxmg.mp4']\n"
          ],
          "name": "stdout"
        }
      ]
    },
    {
      "cell_type": "markdown",
      "metadata": {
        "id": "u3ZHAHKozZDp",
        "colab_type": "text"
      },
      "source": [
        "# **Frame Seperation**"
      ]
    },
    {
      "cell_type": "code",
      "metadata": {
        "id": "Sc5VmzNbEica",
        "colab_type": "code",
        "colab": {}
      },
      "source": [
        "input_size = 224\n",
        "frames_per_video = 20\n",
        "\n",
        "def _read_frames_at_indices(path, capture, frame_idxs):\n",
        "    try:\n",
        "        frames = []\n",
        "        idxs_read = []\n",
        "        for frame_idx in range(frame_idxs[0], frame_idxs[-1] + 1):\n",
        "            # Get the next frame, but don't decode if we're not using it.\n",
        "            ret = capture.grab()\n",
        "            if not ret:\n",
        "                print(\"Error grabbing frame %d from movie %s\" % (frame_idx, path.split('/',4)[-1]))\n",
        "                break\n",
        "\n",
        "            # Need to look at this frame?\n",
        "            current = len(idxs_read)\n",
        "            if frame_idx == frame_idxs[current]:\n",
        "                ret, frame = capture.retrieve()\n",
        "                if not ret or frame is None:\n",
        "                    print(\"Error retrieving frame %d from movie %s\" % (frame_idx, path.split('/',4)[-1]))\n",
        "                    break\n",
        "\n",
        "                frame = _postprocess_frame(frame)\n",
        "                frames.append(frame)\n",
        "                idxs_read.append(frame_idx)\n",
        "\n",
        "        if len(frames) > 0:\n",
        "            return frames\n",
        "        print(\"No frames read from movie %s\" % path)\n",
        "        return None\n",
        "    except:\n",
        "        print(\"Exception while reading movie %s\" % path.split('/',4)[-1])\n",
        "        return None \n",
        "\n",
        "def _postprocess_frame(frame, insets=(0,0)):\n",
        "    frame = cv2.cvtColor(frame, cv2.COLOR_BGR2RGB)\n",
        "\n",
        "    if insets[0] > 0:\n",
        "        W = frame.shape[1]\n",
        "        p = int(W * insets[0])\n",
        "        frame = frame[:, p:-p, :]\n",
        "\n",
        "    if insets[1] > 0:\n",
        "        H = frame.shape[1]\n",
        "        q = int(H * insets[1])\n",
        "        frame = frame[q:-q, :, :]\n",
        "\n",
        "    return frame \n",
        "\n",
        "def read_frames(path, num_frames=frames_per_video, jitter=0, seed=None):\n",
        "    \"\"\"Reads frames that are always evenly spaced throughout the video.\n",
        "\n",
        "        Arguments:\n",
        "            path: the video file\n",
        "            num_frames: how many frames to read, -1 means the entire video\n",
        "                (warning: this will take up a lot of memory!)\n",
        "            jitter: if not 0, adds small random offsets to the frame indices;\n",
        "                this is useful so we don't always land on even or odd frames\n",
        "            seed: random seed for jittering; if you set this to a fixed value,\n",
        "                you probably want to set it only on the first video \n",
        "    \"\"\"\n",
        "    assert num_frames > 0\n",
        "\n",
        "    capture = cv2.VideoCapture(path)\n",
        "    frame_count = int(capture.get(cv2.CAP_PROP_FRAME_COUNT))\n",
        "    if frame_count <= 0: return None\n",
        "\n",
        "    frame_idxs = np.linspace(0, frame_count - 1, num_frames, endpoint=True, dtype=np.int)\n",
        "    if jitter > 0:\n",
        "        np.random.seed(seed)\n",
        "        jitter_offsets = np.random.randint(-jitter, jitter, len(frame_idxs))\n",
        "        frame_idxs = np.clip(frame_idxs + jitter_offsets, 0, frame_count - 1)\n",
        "\n",
        "    result = _read_frames_at_indices(path, capture, frame_idxs)\n",
        "    capture.release()\n",
        "    return result\n",
        "\n",
        "def isotropically_resize_image(img, size, resample=cv2.INTER_AREA):\n",
        "    h, w = img.shape[:2]\n",
        "    if w > h:\n",
        "        h = h * size // w\n",
        "        w = size\n",
        "    else:\n",
        "        w = w * size // h\n",
        "        h = size\n",
        "\n",
        "    resized = cv2.resize(img, (w, h), interpolation=resample)\n",
        "    return resized\n",
        "\n",
        "\n",
        "def make_square_image(img):\n",
        "    h, w = img.shape[:2]\n",
        "    size = max(h, w)\n",
        "    t = 0\n",
        "    b = size - h\n",
        "    l = 0\n",
        "    r = size - w\n",
        "    return cv2.copyMakeBorder(img, t, b, l, r, cv2.BORDER_CONSTANT, value=0)"
      ],
      "execution_count": 0,
      "outputs": []
    },
    {
      "cell_type": "code",
      "metadata": {
        "id": "jxG9SEM__YUo",
        "colab_type": "code",
        "outputId": "52fa0cd1-0a9c-4a82-f98b-798c1a7906b6",
        "colab": {
          "base_uri": "https://localhost:8080/",
          "height": 88
        }
      },
      "source": [
        "sys.path.insert(1,'/content/drive/My Drive/YoloV2' )\n",
        "import yolov2\n",
        "\n",
        "mobilenetv2 = yolov2.load_mobilenetv2_224_075_detector(\"/content/drive/My Drive/YoloV2/facedetection-mobilenetv2-size224-alpha0.75.h5\")\n",
        "yolo_model = yolov2.FaceDetector(model=mobilenetv2)"
      ],
      "execution_count": 0,
      "outputs": [
        {
          "output_type": "stream",
          "text": [
            "WARNING:tensorflow:From /usr/local/lib/python3.6/dist-packages/tensorflow/python/ops/resource_variable_ops.py:1666: calling BaseResourceVariable.__init__ (from tensorflow.python.ops.resource_variable_ops) with constraint is deprecated and will be removed in a future version.\n",
            "Instructions for updating:\n",
            "If using Keras pass *_constraint arguments to layers.\n"
          ],
          "name": "stdout"
        }
      ]
    },
    {
      "cell_type": "code",
      "metadata": {
        "id": "wxiH5MKEjZ0E",
        "colab_type": "code",
        "colab": {}
      },
      "source": [
        "def get_faces(frames):\n",
        "    faces = []\n",
        "    for face in frames:\n",
        "        yolo_boxes = yolo_model.detect(face, 0.7)\n",
        "        yb = yolov2.get_boxes_points(yolo_boxes, face.shape)\n",
        "        \n",
        "        for b in yb:\n",
        "            lx, ly, rx, ry = b\n",
        "            # x, y, w, h here\n",
        "            # ax.add_patch(Rectangle((lx,ly),rx - lx,ry - ly,linewidth=2,edgecolor='red',facecolor='none'))\n",
        "            img_crop = face[ly:ry, lx:rx]\n",
        "            resized_face = isotropically_resize_image(img_crop, input_size)\n",
        "            resized_face = make_square_image(resized_face)\n",
        "            faces.append(resized_face)\n",
        "    return faces"
      ],
      "execution_count": 0,
      "outputs": []
    },
    {
      "cell_type": "markdown",
      "metadata": {
        "id": "aUbWoHvv9Okf",
        "colab_type": "text"
      },
      "source": [
        "# Array Initialization"
      ]
    },
    {
      "cell_type": "code",
      "metadata": {
        "id": "t5vYjBudL8Oh",
        "colab_type": "code",
        "outputId": "36cd38d1-eec9-4c61-ebfa-f0ab051a332f",
        "colab": {
          "base_uri": "https://localhost:8080/",
          "height": 66,
          "referenced_widgets": [
            "7e98fcdb2dec433689b735ff0b477ebf",
            "cb8bb6b11f8542988030b59e22838a7e",
            "5e5c29125ec84d868be0afb4624242c6",
            "bedf54cd693c49ed8179d71f286636af",
            "1bc6dea6bc0a4367b03807d80006629b",
            "b1ab5cd398a44b238abc975291df663b",
            "3636c4ffe90544319c9f0fcfed0ac525",
            "2db5d8266d0d42979fcc61e497bf8fbf"
          ]
        }
      },
      "source": [
        "for path in tqdm(video_dir):\n",
        "    if(os.path.exists(path[0]) == 0):\n",
        "        print(path)"
      ],
      "execution_count": 0,
      "outputs": [
        {
          "output_type": "display_data",
          "data": {
            "application/vnd.jupyter.widget-view+json": {
              "model_id": "7e98fcdb2dec433689b735ff0b477ebf",
              "version_minor": 0,
              "version_major": 2
            },
            "text/plain": [
              "HBox(children=(IntProgress(value=0, max=200), HTML(value='')))"
            ]
          },
          "metadata": {
            "tags": []
          }
        },
        {
          "output_type": "stream",
          "text": [
            "\n"
          ],
          "name": "stdout"
        }
      ]
    },
    {
      "cell_type": "code",
      "metadata": {
        "id": "kSqbXEjduVdt",
        "colab_type": "code",
        "colab": {}
      },
      "source": [
        "x_orig = []\n",
        "y_orig = []\n",
        "X_test = []\n",
        "Y_test = []"
      ],
      "execution_count": 0,
      "outputs": []
    },
    {
      "cell_type": "code",
      "metadata": {
        "id": "WN_RCrqKCKqL",
        "colab_type": "code",
        "outputId": "ae5653da-c55a-4c58-9999-c873016d396e",
        "colab": {
          "base_uri": "https://localhost:8080/",
          "height": 83,
          "referenced_widgets": [
            "9acdfcf6208d46ab850b6c6240a733e6",
            "70f0484d29cd4fae8ca8c5d75e177f6a",
            "b9f32e72ea9f4023a79b63ee9f56454e",
            "b6f7ed35f90a476f93afcf18d1ffc921",
            "42637a13fd0a471b82d291d9f66cfbc1",
            "5caa2238d74a45199d86fb4a0318afe1",
            "bac144c2996f4ff3b6138490fa3224cc",
            "db8c6032c7d5431c80c95726d50f5a19"
          ]
        }
      },
      "source": [
        "for f in tqdm(video_dir):\n",
        "    try:\n",
        "        frames = read_frames(f[0])\n",
        "        faces = get_faces(frames)\n",
        "        x_orig.extend(faces)\n",
        "        y_orig.extend([f[1]] * len(faces))\n",
        "    except Exception as e:\n",
        "        print(\"Error on video %s: %s\" % (f[0], str(e)))"
      ],
      "execution_count": 0,
      "outputs": [
        {
          "output_type": "display_data",
          "data": {
            "application/vnd.jupyter.widget-view+json": {
              "model_id": "9acdfcf6208d46ab850b6c6240a733e6",
              "version_minor": 0,
              "version_major": 2
            },
            "text/plain": [
              "HBox(children=(IntProgress(value=0, max=200), HTML(value='')))"
            ]
          },
          "metadata": {
            "tags": []
          }
        },
        {
          "output_type": "stream",
          "text": [
            "Error on video /content/drive/My Drive/Dataset/dfdc_train_part_19/uvpcmbutwe.mp4: \n",
            "\n"
          ],
          "name": "stdout"
        }
      ]
    },
    {
      "cell_type": "markdown",
      "metadata": {
        "id": "zGiodNU0iFJB",
        "colab_type": "text"
      },
      "source": [
        "# **Array Store/Load**"
      ]
    },
    {
      "cell_type": "code",
      "metadata": {
        "id": "IyV4tLtqKWX3",
        "colab_type": "code",
        "colab": {}
      },
      "source": [
        "# Save list to pickle\n",
        "with open('x_2.pkl', 'wb') as f:\n",
        "    pickle.dump(x_orig, f)\n",
        "\n",
        "with open('y_2.pkl', 'wb') as f:\n",
        "    pickle.dump(y_orig,f )"
      ],
      "execution_count": 0,
      "outputs": []
    },
    {
      "cell_type": "code",
      "metadata": {
        "id": "yVOCerzPM-Vy",
        "colab_type": "code",
        "colab": {}
      },
      "source": [
        "with open('/content/drive/My Drive/x_orig.pkl', 'rb') as f:\n",
        "    x_orig = pickle.load(f)\n",
        "\n",
        "with open('/content/drive/My Drive/y_orig.pkl', 'rb') as f:\n",
        "    y_orig = pickle.load(f)"
      ],
      "execution_count": 0,
      "outputs": []
    },
    {
      "cell_type": "code",
      "metadata": {
        "id": "CqxI5anAu3Y6",
        "colab_type": "code",
        "outputId": "0560cb45-dbfa-4856-af6f-4692386da7fe",
        "colab": {
          "base_uri": "https://localhost:8080/",
          "height": 282
        }
      },
      "source": [
        "plt.plot(y_orig)"
      ],
      "execution_count": 0,
      "outputs": [
        {
          "output_type": "execute_result",
          "data": {
            "text/plain": [
              "[<matplotlib.lines.Line2D at 0x7fd4ee124780>]"
            ]
          },
          "metadata": {
            "tags": []
          },
          "execution_count": 29
        },
        {
          "output_type": "display_data",
          "data": {
            "image/png": "[encoded data removed]",
            "text/plain": [
              "<Figure size 432x288 with 1 Axes>"
            ]
          },
          "metadata": {
            "tags": [],
            "needs_background": "light"
          }
        }
      ]
    },
    {
      "cell_type": "code",
      "metadata": {
        "id": "lqrKP-I7lgGb",
        "colab_type": "code",
        "colab": {}
      },
      "source": [
        "with open('/content/drive/My Drive/x_test.pkl', 'rb') as f:\n",
        "    X_test = pickle.load(f)\n",
        "\n",
        "with open('/content/drive/My Drive/y_test.pkl', 'rb') as f:\n",
        "    Y_test = pickle.load(f)"
      ],
      "execution_count": 0,
      "outputs": []
    },
    {
      "cell_type": "code",
      "metadata": {
        "id": "RuHO3WsALvvY",
        "colab_type": "code",
        "outputId": "58d36f7c-6dc0-445b-fc44-cc51a3ec8739",
        "colab": {
          "base_uri": "https://localhost:8080/",
          "height": 34
        }
      },
      "source": [
        "temp = list(zip(X_test, Y_test))\n",
        "random.shuffle(temp)\n",
        "\n",
        "X_test, Y_test = zip(*temp)\n",
        "del(temp)\n",
        "gc.collect()"
      ],
      "execution_count": 0,
      "outputs": [
        {
          "output_type": "execute_result",
          "data": {
            "text/plain": [
              "15"
            ]
          },
          "metadata": {
            "tags": []
          },
          "execution_count": 7
        }
      ]
    },
    {
      "cell_type": "markdown",
      "metadata": {
        "id": "SR-0_JEypp40",
        "colab_type": "text"
      },
      "source": [
        "# Resize"
      ]
    },
    {
      "cell_type": "code",
      "metadata": {
        "id": "C7CstXDzVvZv",
        "colab_type": "code",
        "outputId": "aa3d1cc8-695b-4adc-cbcb-ae8bb530b48e",
        "colab": {
          "base_uri": "https://localhost:8080/",
          "height": 51
        }
      },
      "source": [
        "print(len(x_orig), len(y_orig))\n",
        "print(x_orig[0].shape)"
      ],
      "execution_count": 0,
      "outputs": [
        {
          "output_type": "stream",
          "text": [
            "4320 4320\n",
            "(224, 224, 3)\n"
          ],
          "name": "stdout"
        }
      ]
    },
    {
      "cell_type": "code",
      "metadata": {
        "id": "y94z3WK1VqPa",
        "colab_type": "code",
        "colab": {}
      },
      "source": [
        "x_np = np.array(x_orig).reshape(-1, 224, 224, 3)\n",
        "y_np = np.array(y_orig)\n",
        "# X_test = np.array(X_test).reshape(-1,224,224,3)\n",
        "# Y_test = np.array(Y_test)"
      ],
      "execution_count": 0,
      "outputs": []
    },
    {
      "cell_type": "code",
      "metadata": {
        "id": "eKixeYkhCkP1",
        "colab_type": "code",
        "outputId": "43d24726-d4ed-4a25-d0c0-71ae22d28385",
        "colab": {
          "base_uri": "https://localhost:8080/",
          "height": 51
        }
      },
      "source": [
        "print(x_np.shape)\n",
        "print(y_np.shape)"
      ],
      "execution_count": 0,
      "outputs": [
        {
          "output_type": "stream",
          "text": [
            "(4320, 224, 224, 3)\n",
            "(4320,)\n"
          ],
          "name": "stdout"
        }
      ]
    },
    {
      "cell_type": "code",
      "metadata": {
        "id": "VJ5gsUhY5LRJ",
        "colab_type": "code",
        "outputId": "22e0335a-38d3-4580-dc20-bbc4fac0bb1b",
        "colab": {
          "base_uri": "https://localhost:8080/",
          "height": 85
        }
      },
      "source": [
        "# from sklearn.model_selection import train_test_split\n",
        "# X_train, X_val, Y_train, Y_val = train_test_split(x_np, y_np, test_size=0.20, random_state=4)\n",
        "\n",
        "# print(\"Shape of X_train:\", X_train.shape)\n",
        "# print(\"Shape of X_val:\", X_val.shape)\n",
        "# print(\"Shape of Y_train:\", Y_train.shape)\n",
        "# print(\"Shape of Y_val:\", Y_val.shape)\n"
      ],
      "execution_count": 0,
      "outputs": [
        {
          "output_type": "stream",
          "text": [
            "Shape of X_train: (3438, 224, 224, 3)\n",
            "Shape of X_val: (860, 224, 224, 3)\n",
            "Shape of Y_train: (3438,)\n",
            "Shape of Y_val: (860,)\n"
          ],
          "name": "stdout"
        }
      ]
    },
    {
      "cell_type": "code",
      "metadata": {
        "id": "AIps_RbI82ZG",
        "colab_type": "code",
        "colab": {}
      },
      "source": [
        "x_np = x_np / 255.0\n",
        "# X_val = X_val / 255\n",
        "# X_test = X_test / 255.0"
      ],
      "execution_count": 0,
      "outputs": []
    },
    {
      "cell_type": "code",
      "metadata": {
        "id": "5sMzQ5Yetuu3",
        "colab_type": "code",
        "outputId": "0aa7ea8b-9cda-4b09-a45b-79993fcc3655",
        "colab": {
          "base_uri": "https://localhost:8080/",
          "height": 282
        }
      },
      "source": [
        "plt.plot(y_np)"
      ],
      "execution_count": 0,
      "outputs": [
        {
          "output_type": "execute_result",
          "data": {
            "text/plain": [
              "[<matplotlib.lines.Line2D at 0x7fb93032acc0>]"
            ]
          },
          "metadata": {
            "tags": []
          },
          "execution_count": 15
        },
        {
          "output_type": "display_data",
          "data": {
            "image/png": "[encoded data removed]",
            "text/plain": [
              "<Figure size 432x288 with 1 Axes>"
            ]
          },
          "metadata": {
            "tags": [],
            "needs_background": "light"
          }
        }
      ]
    },
    {
      "cell_type": "markdown",
      "metadata": {
        "id": "5zMJLLEWBH6p",
        "colab_type": "text"
      },
      "source": [
        "# **Manual Logistic Network**"
      ]
    },
    {
      "cell_type": "markdown",
      "metadata": {
        "id": "E48fGQlYEp25",
        "colab_type": "text"
      },
      "source": [
        "### Model Definitions"
      ]
    },
    {
      "cell_type": "code",
      "metadata": {
        "id": "ADLKK43vAtim",
        "colab_type": "code",
        "colab": {}
      },
      "source": [
        "def sigmoid(Z):\n",
        "    A = 1/(1+np.exp(-Z))\n",
        "    cache = Z\n",
        "    return A, cache\n",
        "\n",
        "def relu(Z):\n",
        "    A = np.maximum(0,Z)\n",
        "    assert(A.shape == Z.shape)\n",
        "    cache = Z \n",
        "    return A, cache\n",
        "\n",
        "\n",
        "def relu_backward(dA, cache):\n",
        "    Z = cache\n",
        "    dZ = np.array(dA, copy=True) # just converting dz to a correct object.\n",
        "    \n",
        "    # When z <= 0, you should set dz to 0 as well. \n",
        "    dZ[Z <= 0] = 0\n",
        "    assert (dZ.shape == Z.shape)\n",
        "    return dZ\n",
        "\n",
        "def sigmoid_backward(dA, cache):\n",
        "    Z = cache\n",
        "    s = 1/(1+np.exp(-Z))\n",
        "    dZ = dA * s * (1-s)\n",
        "    assert (dZ.shape == Z.shape)\n",
        "    return dZ\n"
      ],
      "execution_count": 0,
      "outputs": []
    },
    {
      "cell_type": "code",
      "metadata": {
        "id": "z3uOBHQtBYVu",
        "colab_type": "code",
        "colab": {}
      },
      "source": [
        "def initialize_parameters_deep(layer_dims):\n",
        "    \"\"\"\n",
        "    Arguments:\n",
        "    layer_dims -- python array (list) containing the dimensions of each layer in our network\n",
        "    \n",
        "    Returns:\n",
        "    parameters -- python dictionary containing your parameters \"W1\", \"b1\", ..., \"WL\", \"bL\":\n",
        "                    Wl -- weight matrix of shape (layer_dims[l], layer_dims[l-1])\n",
        "                    bl -- bias vector of shape (layer_dims[l], 1)\n",
        "    \"\"\"\n",
        "    \n",
        "    np.random.seed(3)\n",
        "    parameters = {}\n",
        "    L = len(layer_dims)            # number of layers in the network\n",
        "\n",
        "    for l in range(1, L):\n",
        "        parameters['W' + str(l)] = np.random.randn(layer_dims[l], layer_dims[l-1]) * 0.01\n",
        "        parameters['b' + str(l)] = np.zeros((layer_dims[l], 1))\n",
        "        \n",
        "        assert(parameters['W' + str(l)].shape == (layer_dims[l], layer_dims[l-1]))\n",
        "        assert(parameters['b' + str(l)].shape == (layer_dims[l], 1))\n",
        "          \n",
        "    return parameters"
      ],
      "execution_count": 0,
      "outputs": []
    },
    {
      "cell_type": "code",
      "metadata": {
        "id": "5Q7_YuqEBfOw",
        "colab_type": "code",
        "colab": {}
      },
      "source": [
        "def linear_forward(A, W, b):\n",
        "    \"\"\"\n",
        "    Implement the linear part of a layer's forward propagation.\n",
        "\n",
        "    Arguments:\n",
        "    A -- activations from previous layer (or input data): (size of previous layer, number of examples)\n",
        "    W -- weights matrix: numpy array of shape (size of current layer, size of previous layer)\n",
        "    b -- bias vector, numpy array of shape (size of the current layer, 1)\n",
        "\n",
        "    Returns:\n",
        "    Z -- the input of the activation function, also called pre-activation parameter \n",
        "    cache -- a python tuple containing \"A\", \"W\" and \"b\" ; stored for computing the backward pass efficiently\n",
        "    \"\"\"\n",
        "    \n",
        "    Z = np.dot(W,A) + b\n",
        "    assert(Z.shape == (W.shape[0], A.shape[1]))\n",
        "    cache = (A, W, b)\n",
        "    \n",
        "    return Z, cache\n",
        "\n",
        "def linear_activation_forward(A_prev, W, b, activation):\n",
        "    \"\"\"\n",
        "    Implement the forward propagation for the LINEAR->ACTIVATION layer\n",
        "\n",
        "    Arguments:\n",
        "    A_prev -- activations from previous layer (or input data): (size of previous layer, number of examples)\n",
        "    W -- weights matrix: numpy array of shape (size of current layer, size of previous layer)\n",
        "    b -- bias vector, numpy array of shape (size of the current layer, 1)\n",
        "    activation -- the activation to be used in this layer, stored as a text string: \"sigmoid\" or \"relu\"\n",
        "\n",
        "    Returns:\n",
        "    A -- the output of the activation function, also called the post-activation value \n",
        "    cache -- a python tuple containing \"linear_cache\" and \"activation_cache\";\n",
        "             stored for computing the backward pass efficiently\n",
        "    \"\"\"\n",
        "    \n",
        "    if activation == \"sigmoid\":\n",
        "        # Inputs: \"A_prev, W, b\". Outputs: \"A, activation_cache\".\n",
        "        Z, linear_cache = linear_forward(A_prev, W, b)\n",
        "        A, activation_cache = sigmoid(Z)\n",
        "    \n",
        "    elif activation == \"relu\":\n",
        "        # Inputs: \"A_prev, W, b\". Outputs: \"A, activation_cache\".\n",
        "        Z, linear_cache = linear_forward(A_prev, W, b)\n",
        "        A, activation_cache = relu(Z)\n",
        "    \n",
        "    assert (A.shape == (W.shape[0], A_prev.shape[1]))\n",
        "    cache = (linear_cache, activation_cache)\n",
        "    return A, cache\n",
        "\n",
        "def L_model_forward(X, parameters):\n",
        "    \"\"\"\n",
        "    Implement forward propagation for the [LINEAR->RELU]*(L-1)->LINEAR->SIGMOID computation\n",
        "    \n",
        "    Arguments:\n",
        "    X -- data, numpy array of shape (input size, number of examples)\n",
        "    parameters -- output of initialize_parameters_deep()\n",
        "    \n",
        "    Returns:\n",
        "    AL -- last post-activation value\n",
        "    caches -- list of caches containing:\n",
        "                every cache of linear_activation_forward() (there are L-1 of them, indexed from 0 to L-1)\n",
        "    \"\"\"\n",
        "\n",
        "    caches = []\n",
        "    A = X\n",
        "    L = len(parameters) // 2                  # number of layers in the neural network\n",
        "    \n",
        "    # Implement [LINEAR -> RELU]*(L-1). Add \"cache\" to the \"caches\" list.\n",
        "    for l in range(1, L):\n",
        "        A_prev = A \n",
        "        A, cache = linear_activation_forward(A, parameters['W'+str(l)], parameters['b'+str(l)], \"relu\")\n",
        "        caches.append(cache)\n",
        "    \n",
        "    # Implement LINEAR -> SIGMOID. Add \"cache\" to the \"caches\" list.\n",
        "    AL, cache = linear_activation_forward(A, parameters['W'+str(L)], parameters['b'+str(L)], \"sigmoid\")\n",
        "    caches.append(cache)\n",
        "    \n",
        "    assert(AL.shape == (1,X.shape[1]))     \n",
        "    return AL, caches"
      ],
      "execution_count": 0,
      "outputs": []
    },
    {
      "cell_type": "code",
      "metadata": {
        "id": "J9tk2yyFCGKL",
        "colab_type": "code",
        "colab": {}
      },
      "source": [
        "def compute_cost(AL, Y):\n",
        "    \"\"\"\n",
        "    Implement the cost function defined by equation (7).\n",
        "\n",
        "    Arguments:\n",
        "    AL -- probability vector corresponding to your label predictions, shape (1, number of examples)\n",
        "    Y -- true \"label\" vector (for example: containing 0 if non-cat, 1 if cat), shape (1, number of examples)\n",
        "\n",
        "    Returns:\n",
        "    cost -- cross-entropy cost\n",
        "    \"\"\"\n",
        "    m = Y.shape[1]\n",
        "\n",
        "    # Compute loss from aL and y.\n",
        "    cost = np.sum(np.log(AL)*Y + (1-Y)*np.log(1-AL)) / m    \n",
        "    cost = np.squeeze(cost)      # To make sure your cost's shape is what we expect (e.g. this turns [[17]] into 17).\n",
        "    assert(cost.shape == ())\n",
        "    return cost"
      ],
      "execution_count": 0,
      "outputs": []
    },
    {
      "cell_type": "code",
      "metadata": {
        "id": "IOPhiXOhCP4t",
        "colab_type": "code",
        "colab": {}
      },
      "source": [
        "def linear_backward(dZ, cache):\n",
        "    \"\"\"\n",
        "    Implement the linear portion of backward propagation for a single layer (layer l)\n",
        "\n",
        "    Arguments:\n",
        "    dZ -- Gradient of the cost with respect to the linear output (of current layer l)\n",
        "    cache -- tuple of values (A_prev, W, b) coming from the forward propagation in the current layer\n",
        "\n",
        "    Returns:\n",
        "    dA_prev -- Gradient of the cost with respect to the activation (of the previous layer l-1), same shape as A_prev\n",
        "    dW -- Gradient of the cost with respect to W (current layer l), same shape as W\n",
        "    db -- Gradient of the cost with respect to b (current layer l), same shape as b\n",
        "    \"\"\"\n",
        "    A_prev, W, b = cache\n",
        "    m = A_prev.shape[1]\n",
        "\n",
        "    dW = np.dot(dZ,A_prev.T)/m\n",
        "    db = np.sum(dZ, axis=1, keepdims=True)/m\n",
        "    dA_prev = np.dot(W.T,dZ)\n",
        "    \n",
        "    assert (dA_prev.shape == A_prev.shape)\n",
        "    assert (dW.shape == W.shape)\n",
        "    assert (db.shape == b.shape)\n",
        "    return dA_prev, dW, db\n",
        "\n",
        "def linear_activation_backward(dA, cache, activation):\n",
        "    \"\"\"\n",
        "    Implement the backward propagation for the LINEAR->ACTIVATION layer.\n",
        "    \n",
        "    Arguments:\n",
        "    dA -- post-activation gradient for current layer l \n",
        "    cache -- tuple of values (linear_cache, activation_cache) we store for computing backward propagation efficiently\n",
        "    activation -- the activation to be used in this layer, stored as a text string: \"sigmoid\" or \"relu\"\n",
        "    \n",
        "    Returns:\n",
        "    dA_prev -- Gradient of the cost with respect to the activation (of the previous layer l-1), same shape as A_prev\n",
        "    dW -- Gradient of the cost with respect to W (current layer l), same shape as W\n",
        "    db -- Gradient of the cost with respect to b (current layer l), same shape as b\n",
        "    \"\"\"\n",
        "    linear_cache, activation_cache = cache\n",
        "    \n",
        "    if activation == \"relu\":\n",
        "        dZ = relu_backward(dA, activation_cache)\n",
        "        dA_prev, dW, db = linear_backward(dZ, linear_cache)        \n",
        "    elif activation == \"sigmoid\":\n",
        "        dZ = sigmoid_backward(dA, activation_cache)\n",
        "        dA_prev, dW, db = linear_backward(dZ, linear_cache)\n",
        "    \n",
        "    return dA_prev, dW, db\n",
        "\n",
        "def L_model_backward(AL, Y, caches):\n",
        "    \"\"\"\n",
        "    Implement the backward propagation for the [LINEAR->RELU] * (L-1) -> LINEAR -> SIGMOID group\n",
        "    \n",
        "    Arguments:\n",
        "    AL -- probability vector, output of the forward propagation (L_model_forward())\n",
        "    Y -- true \"label\" vector (containing 0 if non-cat, 1 if cat)\n",
        "    caches -- list of caches containing:\n",
        "                every cache of linear_activation_forward() with \"relu\" (it's caches[l], for l in range(L-1) i.e l = 0...L-2)\n",
        "                the cache of linear_activation_forward() with \"sigmoid\" (it's caches[L-1])\n",
        "    \n",
        "    Returns:\n",
        "    grads -- A dictionary with the gradients\n",
        "             grads[\"dA\" + str(l)] = ... \n",
        "             grads[\"dW\" + str(l)] = ...\n",
        "             grads[\"db\" + str(l)] = ... \n",
        "    \"\"\"\n",
        "    grads = {}\n",
        "    L = len(caches) # the number of layers\n",
        "    m = AL.shape[1]\n",
        "    Y = Y.reshape(AL.shape) # after this line, Y is the same shape as AL\n",
        "    \n",
        "    # Initializing the backpropagation\n",
        "    dAL = - (np.divide(Y, AL) - np.divide(1 - Y, 1 - AL))\n",
        "    \n",
        "    # Lth layer (SIGMOID -> LINEAR) gradients. Inputs: \"dAL, current_cache\". Outputs: \"grads[\"dAL-1\"], grads[\"dWL\"], grads[\"dbL\"]\n",
        "    current_cache = caches[-1]\n",
        "    grads[\"dA\" + str(L-1)], grads[\"dW\" + str(L)], grads[\"db\" + str(L)] = linear_activation_backward(dAL, current_cache, \"sigmoid\")\n",
        "    \n",
        "    # Loop from l=L-2 to l=0\n",
        "    for l in reversed(range(L-1)):\n",
        "        # lth layer: (RELU -> LINEAR) gradients.\n",
        "        # Inputs: \"grads[\"dA\" + str(l + 1)], current_cache\". Outputs: \"grads[\"dA\" + str(l)] , grads[\"dW\" + str(l + 1)] , grads[\"db\" + str(l + 1)] \n",
        "        current_cache = caches[l]\n",
        "        dA_prev_temp, dW_temp, db_temp = linear_activation_backward(grads[\"dA\" + str(l + 1)], current_cache, \"relu\")\n",
        "        grads[\"dA\" + str(l)] = dA_prev_temp\n",
        "        grads[\"dW\" + str(l + 1)] = dW_temp\n",
        "        grads[\"db\" + str(l + 1)] = db_temp\n",
        "\n",
        "    return grads"
      ],
      "execution_count": 0,
      "outputs": []
    },
    {
      "cell_type": "code",
      "metadata": {
        "id": "p9tpURoCC0K6",
        "colab_type": "code",
        "colab": {}
      },
      "source": [
        "def update_parameters(parameters, grads, learning_rate):\n",
        "    \"\"\"\n",
        "    Update parameters using gradient descent\n",
        "    \n",
        "    Arguments:\n",
        "    parameters -- python dictionary containing your parameters \n",
        "    grads -- python dictionary containing your gradients, output of L_model_backward\n",
        "    \n",
        "    Returns:\n",
        "    parameters -- python dictionary containing your updated parameters \n",
        "                  parameters[\"W\" + str(l)] = ... \n",
        "                  parameters[\"b\" + str(l)] = ...\n",
        "    \"\"\"\n",
        "    \n",
        "    L = len(parameters) // 2 # number of layers in the neural network\n",
        "    # Update rule for each parameter. Use a for loop.\n",
        "    for l in range(L):\n",
        "        parameters[\"W\" + str(l+1)] = parameters[\"W\" + str(l+1)] - learning_rate * grads[\"dW\" + str(l+1)]\n",
        "        parameters[\"b\" + str(l+1)] = parameters[\"b\" + str(l+1)] - learning_rate * grads[\"db\" + str(l+1)]\n",
        "    return parameters"
      ],
      "execution_count": 0,
      "outputs": []
    },
    {
      "cell_type": "markdown",
      "metadata": {
        "id": "4hmbDfkCEw6m",
        "colab_type": "text"
      },
      "source": [
        "### Training"
      ]
    },
    {
      "cell_type": "code",
      "metadata": {
        "id": "8HwnNYu5DtSi",
        "colab_type": "code",
        "colab": {}
      },
      "source": [
        "layers_dims = [X_train_flatten.shape[0], 50, 25, 16, 8, 1] "
      ],
      "execution_count": 0,
      "outputs": []
    },
    {
      "cell_type": "code",
      "metadata": {
        "id": "GQWRuMtTEOPd",
        "colab_type": "code",
        "colab": {}
      },
      "source": [
        "def L_layer_model(X, Y, layers_dims, learning_rate = 0.0005, num_iterations = 5000, print_cost=True):\n",
        "    \"\"\"\n",
        "    Implements a L-layer neural network: [LINEAR->RELU]*(L-1)->LINEAR->SIGMOID.\n",
        "    \n",
        "    Arguments:\n",
        "    X -- data, numpy array of shape (num_px * num_px * 3, number of examples)\n",
        "    Y -- true \"label\" vector (containing 0 if cat, 1 if non-cat), of shape (1, number of examples)\n",
        "    layers_dims -- list containing the input size and each layer size, of length (number of layers + 1).\n",
        "    learning_rate -- learning rate of the gradient descent update rule\n",
        "    num_iterations -- number of iterations of the optimization loop\n",
        "    print_cost -- if True, it prints the cost every 100 steps\n",
        "    \n",
        "    Returns:\n",
        "    parameters -- parameters learnt by the model. They can then be used to predict.\n",
        "    \"\"\"\n",
        "\n",
        "    np.random.seed(1)\n",
        "    costs = []                         # keep track of cost\n",
        "    \n",
        "    # Parameters initialization. (≈ 1 line of code)\n",
        "    parameters = initialize_parameters_deep(layers_dims)\n",
        "    \n",
        "    # Loop (gradient descent)\n",
        "    for i in range(0, num_iterations):\n",
        "\n",
        "        # Forward propagation: [LINEAR -> RELU]*(L-1) -> LINEAR -> SIGMOID.\n",
        "        AL, caches = L_model_forward(X, parameters)\n",
        "        \n",
        "        # Compute cost.\n",
        "        cost = compute_cost(AL, Y)\n",
        "    \n",
        "        # Backward propagation.\n",
        "        grads = L_model_backward(AL, Y, caches)\n",
        " \n",
        "        # Update parameters.\n",
        "        parameters = update_parameters(parameters, grads, learning_rate)\n",
        "                \n",
        "        # Print the cost every 100 training example\n",
        "        if print_cost and i % 100 == 0:\n",
        "            print (\"Cost after iteration %i: %f\" %(i, cost))\n",
        "        if print_cost and i % 100 == 0:\n",
        "            costs.append(cost)\n",
        "            \n",
        "    # plot the cost\n",
        "    plt.plot(np.squeeze(costs))\n",
        "    plt.ylabel('cost')\n",
        "    plt.xlabel('iterations (per hundreds)')\n",
        "    plt.title(\"Learning rate =\" + str(learning_rate))\n",
        "    plt.show()\n",
        "    \n",
        "    return parameters"
      ],
      "execution_count": 0,
      "outputs": []
    },
    {
      "cell_type": "code",
      "metadata": {
        "id": "DEzZ2L8FGcuj",
        "colab_type": "code",
        "colab": {}
      },
      "source": [
        "def predict(X, parameters):\n",
        "    \"\"\"\n",
        "    Using the learned parameters, predicts a class for each example in X\n",
        "    \n",
        "    Arguments:\n",
        "    parameters -- python dictionary containing your parameters \n",
        "    X -- input data of size (n_x, m)\n",
        "    \n",
        "    Returns\n",
        "    predictions -- vector of predictions of our model (red: 0 / blue: 1)\n",
        "    \"\"\"\n",
        "    \n",
        "    # Computes probabilities using forward propagation, and classifies to 0/1 using 0.5 as the threshold.\n",
        "    predictions, caches = L_model_forward(X, parameters)\n",
        "    # predictions = []\n",
        "    # for x in AL[0]:\n",
        "    #     if(x <= 0.5):\n",
        "    #         predictions.append(0)\n",
        "    #     else:\n",
        "    #         predictions.append(1)\n",
        "    \n",
        "    return np.array(predictions).reshape(AL.shape[0],AL.shape[1])"
      ],
      "execution_count": 0,
      "outputs": []
    },
    {
      "cell_type": "code",
      "metadata": {
        "id": "SLmwCgZmEgff",
        "colab_type": "code",
        "outputId": "5f5c9e94-0928-4166-fb48-a5850a71b0af",
        "colab": {
          "base_uri": "https://localhost:8080/",
          "height": 391
        }
      },
      "source": [
        "parameters = L_layer_model(X_train_flatten, Y_train, layers_dims)"
      ],
      "execution_count": 0,
      "outputs": [
        {
          "output_type": "stream",
          "text": [
            "Cost after iteration 1600: -0.692940\n",
            "Cost after iteration 1700: -0.692929\n",
            "Cost after iteration 1800: -0.692919\n",
            "Cost after iteration 1900: -0.692909\n",
            "Cost after iteration 2000: -0.692899\n",
            "Cost after iteration 2100: -0.692890\n",
            "Cost after iteration 2200: -0.692881\n",
            "Cost after iteration 2300: -0.692872\n",
            "Cost after iteration 2400: -0.692863\n",
            "Cost after iteration 2500: -0.692854\n",
            "Cost after iteration 2600: -0.692846\n",
            "Cost after iteration 2700: -0.692838\n",
            "Cost after iteration 2800: -0.692830\n",
            "Cost after iteration 2900: -0.692822\n",
            "Cost after iteration 3000: -0.692815\n",
            "Cost after iteration 3100: -0.692808\n",
            "Cost after iteration 3200: -0.692800\n",
            "Cost after iteration 3300: -0.692793\n",
            "Cost after iteration 3400: -0.692787\n",
            "Cost after iteration 3500: -0.692780\n",
            "Cost after iteration 3600: -0.692773\n",
            "Cost after iteration 3700: -0.692767\n"
          ],
          "name": "stdout"
        }
      ]
    },
    {
      "cell_type": "code",
      "metadata": {
        "id": "yRovUrfTJB3B",
        "colab_type": "code",
        "colab": {}
      },
      "source": [
        "predictions_train = predict(X_train_flatten, parameters)"
      ],
      "execution_count": 0,
      "outputs": []
    },
    {
      "cell_type": "code",
      "metadata": {
        "id": "IuR2zIfmJSPA",
        "colab_type": "code",
        "colab": {}
      },
      "source": [
        "predictions_test = predict(X_val_flatten, parameters)"
      ],
      "execution_count": 0,
      "outputs": []
    },
    {
      "cell_type": "code",
      "metadata": {
        "id": "f-KpMU3bJcoJ",
        "colab_type": "code",
        "colab": {}
      },
      "source": [
        "print(\"train accuracy: {} %\".format(100 - np.mean(np.abs(predictions_train - Y_train)) * 100))\n",
        "print(\"test accuracy: {} %\".format(100 - np.mean(np.abs(predictions_test - Y_val)) * 100))"
      ],
      "execution_count": 0,
      "outputs": []
    },
    {
      "cell_type": "markdown",
      "metadata": {
        "id": "RHJjN9wHQUx2",
        "colab_type": "text"
      },
      "source": [
        "# **Logistic Network**"
      ]
    },
    {
      "cell_type": "code",
      "metadata": {
        "id": "t8mGDIeSQxdA",
        "colab_type": "code",
        "outputId": "07fbbdda-129a-4938-98dc-4cbc19139834",
        "colab": {
          "base_uri": "https://localhost:8080/",
          "height": 34
        }
      },
      "source": [
        "import tensorflow.keras as keras\n",
        "import tensorflow as tf\n",
        "from keras import regularizers"
      ],
      "execution_count": 0,
      "outputs": [
        {
          "output_type": "stream",
          "text": [
            "Using TensorFlow backend.\n"
          ],
          "name": "stderr"
        }
      ]
    },
    {
      "cell_type": "code",
      "metadata": {
        "id": "9J6c9GAUQ4yN",
        "colab_type": "code",
        "colab": {}
      },
      "source": [
        "model = keras.models.Sequential()\n",
        "model.add(keras.layers.Flatten())\n",
        "model.add(keras.layers.Dense(256, activation=tf.nn.relu))\n",
        "model.add(keras.layers.Dense(256, activation=tf.nn.relu))\n",
        "model.add(keras.layers.Dropout(0.4))\n",
        "model.add(keras.layers.Dense(128, activation=tf.nn.relu))\n",
        "model.add(keras.layers.Dense(128, activation=tf.nn.relu))\n",
        "model.add(keras.layers.Dropout(0.4))\n",
        "model.add(keras.layers.Dense(64, activation=tf.nn.relu))\n",
        "model.add(keras.layers.Dense(64, activation=tf.nn.relu))\n",
        "model.add(keras.layers.Dropout(0.4))\n",
        "model.add(keras.layers.Dense(64, activation=tf.nn.relu))\n",
        "model.add(keras.layers.Dropout(0.4))\n",
        "model.add(keras.layers.Dense(32, activation=tf.nn.relu))\n",
        "model.add(keras.layers.Dense(32, activation=tf.nn.relu))\n",
        "model.add(keras.layers.Dense(16, activation=tf.nn.relu))\n",
        "model.add(keras.layers.Dense(8, activation=tf.nn.relu))\n",
        "model.add(keras.layers.Dense(1, activation=tf.nn.sigmoid))\n",
        "\n",
        "model.compile(optimizer='sgd',\n",
        "              loss='binary_crossentropy',\n",
        "              metrics=['accuracy'])"
      ],
      "execution_count": 0,
      "outputs": []
    },
    {
      "cell_type": "code",
      "metadata": {
        "id": "buSMXWB4S9Fo",
        "colab_type": "code",
        "outputId": "b92c3b46-de13-4f64-93e3-bd8799244352",
        "colab": {
          "base_uri": "https://localhost:8080/",
          "height": 1000
        }
      },
      "source": [
        "history = model.fit(X_train, Y_train, batch_size=32, epochs=150, validation_data=(X_val, Y_val))\n",
        "gc.collect()"
      ],
      "execution_count": 0,
      "outputs": [
        {
          "output_type": "stream",
          "text": [
            "Epoch 1/150\n",
            "108/108 [==============================] - 2s 16ms/step - loss: 0.6941 - accuracy: 0.5137 - val_loss: 0.6935 - val_accuracy: 0.4721\n",
            "Epoch 2/150\n",
            "108/108 [==============================] - 2s 14ms/step - loss: 0.6949 - accuracy: 0.5015 - val_loss: 0.6925 - val_accuracy: 0.5337\n",
            "Epoch 3/150\n",
            "108/108 [==============================] - 1s 13ms/step - loss: 0.6924 - accuracy: 0.5128 - val_loss: 0.6940 - val_accuracy: 0.4698\n",
            "Epoch 4/150\n",
            "108/108 [==============================] - 1s 13ms/step - loss: 0.6928 - accuracy: 0.5201 - val_loss: 0.6935 - val_accuracy: 0.5047\n",
            "Epoch 5/150\n",
            "108/108 [==============================] - 1s 14ms/step - loss: 0.6933 - accuracy: 0.5122 - val_loss: 0.6938 - val_accuracy: 0.4686\n",
            "Epoch 6/150\n",
            "108/108 [==============================] - 1s 13ms/step - loss: 0.6929 - accuracy: 0.5131 - val_loss: 0.6944 - val_accuracy: 0.4674\n",
            "Epoch 7/150\n",
            "108/108 [==============================] - 1s 13ms/step - loss: 0.6935 - accuracy: 0.5201 - val_loss: 0.6940 - val_accuracy: 0.4721\n",
            "Epoch 8/150\n",
            "108/108 [==============================] - 2s 14ms/step - loss: 0.6923 - accuracy: 0.5195 - val_loss: 0.6936 - val_accuracy: 0.5070\n",
            "Epoch 9/150\n",
            "108/108 [==============================] - 1s 14ms/step - loss: 0.6926 - accuracy: 0.5145 - val_loss: 0.6928 - val_accuracy: 0.5198\n",
            "Epoch 10/150\n",
            "108/108 [==============================] - 2s 14ms/step - loss: 0.6918 - accuracy: 0.5160 - val_loss: 0.6928 - val_accuracy: 0.5035\n",
            "Epoch 11/150\n",
            "108/108 [==============================] - 1s 14ms/step - loss: 0.6900 - accuracy: 0.5334 - val_loss: 0.6905 - val_accuracy: 0.5151\n",
            "Epoch 12/150\n",
            "108/108 [==============================] - 2s 15ms/step - loss: 0.6891 - accuracy: 0.5372 - val_loss: 0.6907 - val_accuracy: 0.5186\n",
            "Epoch 13/150\n",
            "108/108 [==============================] - 1s 13ms/step - loss: 0.6902 - accuracy: 0.5361 - val_loss: 0.6905 - val_accuracy: 0.5198\n",
            "Epoch 14/150\n",
            "108/108 [==============================] - 1s 14ms/step - loss: 0.6860 - accuracy: 0.5521 - val_loss: 0.6885 - val_accuracy: 0.5523\n",
            "Epoch 15/150\n",
            "108/108 [==============================] - 1s 13ms/step - loss: 0.6864 - accuracy: 0.5518 - val_loss: 0.6818 - val_accuracy: 0.5767\n",
            "Epoch 16/150\n",
            "108/108 [==============================] - 1s 13ms/step - loss: 0.6856 - accuracy: 0.5611 - val_loss: 0.6890 - val_accuracy: 0.5244\n",
            "Epoch 17/150\n",
            "108/108 [==============================] - 1s 14ms/step - loss: 0.6852 - accuracy: 0.5663 - val_loss: 0.6871 - val_accuracy: 0.5326\n",
            "Epoch 18/150\n",
            "108/108 [==============================] - 1s 14ms/step - loss: 0.6827 - accuracy: 0.5573 - val_loss: 0.6870 - val_accuracy: 0.5326\n",
            "Epoch 19/150\n",
            "108/108 [==============================] - 1s 14ms/step - loss: 0.6808 - accuracy: 0.5637 - val_loss: 0.6813 - val_accuracy: 0.5686\n",
            "Epoch 20/150\n",
            "108/108 [==============================] - 1s 14ms/step - loss: 0.6787 - accuracy: 0.5817 - val_loss: 0.6842 - val_accuracy: 0.5430\n",
            "Epoch 21/150\n",
            "108/108 [==============================] - 2s 16ms/step - loss: 0.6771 - accuracy: 0.5745 - val_loss: 0.6773 - val_accuracy: 0.5744\n",
            "Epoch 22/150\n",
            "108/108 [==============================] - 1s 14ms/step - loss: 0.6716 - accuracy: 0.5893 - val_loss: 0.6656 - val_accuracy: 0.5802\n",
            "Epoch 23/150\n",
            "108/108 [==============================] - 2s 14ms/step - loss: 0.6680 - accuracy: 0.5890 - val_loss: 0.6716 - val_accuracy: 0.5988\n",
            "Epoch 24/150\n",
            "108/108 [==============================] - 1s 13ms/step - loss: 0.6637 - accuracy: 0.6070 - val_loss: 0.6700 - val_accuracy: 0.6000\n",
            "Epoch 25/150\n",
            "108/108 [==============================] - 1s 13ms/step - loss: 0.6595 - accuracy: 0.6114 - val_loss: 0.6658 - val_accuracy: 0.6221\n",
            "Epoch 26/150\n",
            "108/108 [==============================] - 2s 15ms/step - loss: 0.6543 - accuracy: 0.6230 - val_loss: 0.6600 - val_accuracy: 0.6163\n",
            "Epoch 27/150\n",
            "108/108 [==============================] - 1s 14ms/step - loss: 0.6498 - accuracy: 0.6280 - val_loss: 0.6861 - val_accuracy: 0.5372\n",
            "Epoch 28/150\n",
            "108/108 [==============================] - 1s 14ms/step - loss: 0.6386 - accuracy: 0.6329 - val_loss: 0.6620 - val_accuracy: 0.6012\n",
            "Epoch 29/150\n",
            "108/108 [==============================] - 1s 13ms/step - loss: 0.6413 - accuracy: 0.6332 - val_loss: 0.6275 - val_accuracy: 0.6163\n",
            "Epoch 30/150\n",
            "108/108 [==============================] - 2s 15ms/step - loss: 0.6311 - accuracy: 0.6306 - val_loss: 0.6203 - val_accuracy: 0.6570\n",
            "Epoch 31/150\n",
            "108/108 [==============================] - 2s 14ms/step - loss: 0.6275 - accuracy: 0.6449 - val_loss: 0.6428 - val_accuracy: 0.6291\n",
            "Epoch 32/150\n",
            "108/108 [==============================] - 1s 13ms/step - loss: 0.6236 - accuracy: 0.6518 - val_loss: 0.6038 - val_accuracy: 0.6779\n",
            "Epoch 33/150\n",
            "108/108 [==============================] - 1s 14ms/step - loss: 0.6209 - accuracy: 0.6571 - val_loss: 0.6511 - val_accuracy: 0.5581\n",
            "Epoch 34/150\n",
            "108/108 [==============================] - 1s 13ms/step - loss: 0.6034 - accuracy: 0.6667 - val_loss: 0.6213 - val_accuracy: 0.6442\n",
            "Epoch 35/150\n",
            "108/108 [==============================] - 1s 14ms/step - loss: 0.6058 - accuracy: 0.6678 - val_loss: 0.6117 - val_accuracy: 0.6756\n",
            "Epoch 36/150\n",
            "108/108 [==============================] - 1s 14ms/step - loss: 0.5845 - accuracy: 0.6815 - val_loss: 0.5577 - val_accuracy: 0.7151\n",
            "Epoch 37/150\n",
            "108/108 [==============================] - 1s 14ms/step - loss: 0.5844 - accuracy: 0.6867 - val_loss: 0.6647 - val_accuracy: 0.5837\n",
            "Epoch 38/150\n",
            "108/108 [==============================] - 1s 14ms/step - loss: 0.5875 - accuracy: 0.6934 - val_loss: 0.5812 - val_accuracy: 0.6837\n",
            "Epoch 39/150\n",
            "108/108 [==============================] - 1s 13ms/step - loss: 0.5794 - accuracy: 0.6952 - val_loss: 0.5742 - val_accuracy: 0.6802\n",
            "Epoch 40/150\n",
            "108/108 [==============================] - 2s 14ms/step - loss: 0.5815 - accuracy: 0.6914 - val_loss: 0.5715 - val_accuracy: 0.6767\n",
            "Epoch 41/150\n",
            "108/108 [==============================] - 1s 13ms/step - loss: 0.5548 - accuracy: 0.7135 - val_loss: 0.5173 - val_accuracy: 0.7663\n",
            "Epoch 42/150\n",
            "108/108 [==============================] - 1s 14ms/step - loss: 0.5373 - accuracy: 0.7292 - val_loss: 0.5848 - val_accuracy: 0.6558\n",
            "Epoch 43/150\n",
            "108/108 [==============================] - 1s 13ms/step - loss: 0.5617 - accuracy: 0.7094 - val_loss: 0.6434 - val_accuracy: 0.6326\n",
            "Epoch 44/150\n",
            "108/108 [==============================] - 1s 13ms/step - loss: 0.5768 - accuracy: 0.6972 - val_loss: 0.6290 - val_accuracy: 0.6372\n",
            "Epoch 45/150\n",
            "108/108 [==============================] - 1s 13ms/step - loss: 0.5503 - accuracy: 0.7275 - val_loss: 0.5445 - val_accuracy: 0.7163\n",
            "Epoch 46/150\n",
            "108/108 [==============================] - 1s 14ms/step - loss: 0.5200 - accuracy: 0.7461 - val_loss: 0.5720 - val_accuracy: 0.6698\n",
            "Epoch 47/150\n",
            "108/108 [==============================] - 1s 14ms/step - loss: 0.5393 - accuracy: 0.7327 - val_loss: 0.5111 - val_accuracy: 0.7628\n",
            "Epoch 48/150\n",
            "108/108 [==============================] - 1s 14ms/step - loss: 0.5142 - accuracy: 0.7496 - val_loss: 0.5564 - val_accuracy: 0.6942\n",
            "Epoch 49/150\n",
            "108/108 [==============================] - 1s 14ms/step - loss: 0.5045 - accuracy: 0.7563 - val_loss: 0.5586 - val_accuracy: 0.6930\n",
            "Epoch 50/150\n",
            "108/108 [==============================] - 1s 13ms/step - loss: 0.5554 - accuracy: 0.7187 - val_loss: 0.7036 - val_accuracy: 0.5663\n",
            "Epoch 51/150\n",
            "108/108 [==============================] - 1s 14ms/step - loss: 0.5144 - accuracy: 0.7432 - val_loss: 0.6122 - val_accuracy: 0.6430\n",
            "Epoch 52/150\n",
            "108/108 [==============================] - 1s 13ms/step - loss: 0.4764 - accuracy: 0.7749 - val_loss: 0.5919 - val_accuracy: 0.6756\n",
            "Epoch 53/150\n",
            "108/108 [==============================] - 1s 14ms/step - loss: 0.4873 - accuracy: 0.7685 - val_loss: 0.4713 - val_accuracy: 0.7860\n",
            "Epoch 54/150\n",
            "108/108 [==============================] - 1s 13ms/step - loss: 0.4884 - accuracy: 0.7693 - val_loss: 0.5267 - val_accuracy: 0.7477\n",
            "Epoch 55/150\n",
            "108/108 [==============================] - 1s 13ms/step - loss: 0.4988 - accuracy: 0.7647 - val_loss: 0.4716 - val_accuracy: 0.7733\n",
            "Epoch 56/150\n",
            "108/108 [==============================] - 1s 14ms/step - loss: 0.4880 - accuracy: 0.7720 - val_loss: 0.4600 - val_accuracy: 0.7791\n",
            "Epoch 57/150\n",
            "108/108 [==============================] - 1s 14ms/step - loss: 0.4883 - accuracy: 0.7661 - val_loss: 0.4746 - val_accuracy: 0.7651\n",
            "Epoch 58/150\n",
            "108/108 [==============================] - 1s 14ms/step - loss: 0.4692 - accuracy: 0.7792 - val_loss: 0.4765 - val_accuracy: 0.7767\n",
            "Epoch 59/150\n",
            "108/108 [==============================] - 3s 32ms/step - loss: 0.4477 - accuracy: 0.7967 - val_loss: 0.4862 - val_accuracy: 0.7605\n",
            "Epoch 60/150\n",
            "108/108 [==============================] - 1s 14ms/step - loss: 0.4563 - accuracy: 0.7880 - val_loss: 0.5747 - val_accuracy: 0.6744\n",
            "Epoch 61/150\n",
            "108/108 [==============================] - 1s 14ms/step - loss: 0.4618 - accuracy: 0.7833 - val_loss: 0.5408 - val_accuracy: 0.6930\n",
            "Epoch 62/150\n",
            "108/108 [==============================] - 1s 14ms/step - loss: 0.4525 - accuracy: 0.7964 - val_loss: 0.6509 - val_accuracy: 0.6721\n",
            "Epoch 63/150\n",
            "108/108 [==============================] - 1s 14ms/step - loss: 0.4872 - accuracy: 0.7702 - val_loss: 0.4514 - val_accuracy: 0.7907\n",
            "Epoch 64/150\n",
            "108/108 [==============================] - 2s 17ms/step - loss: 0.4333 - accuracy: 0.8092 - val_loss: 0.5777 - val_accuracy: 0.6837\n",
            "Epoch 65/150\n",
            "108/108 [==============================] - 1s 14ms/step - loss: 0.4324 - accuracy: 0.8077 - val_loss: 0.4376 - val_accuracy: 0.7907\n",
            "Epoch 66/150\n",
            "108/108 [==============================] - 2s 17ms/step - loss: 0.4425 - accuracy: 0.8016 - val_loss: 0.5721 - val_accuracy: 0.7023\n",
            "Epoch 67/150\n",
            "108/108 [==============================] - 2s 17ms/step - loss: 0.4290 - accuracy: 0.8080 - val_loss: 0.5397 - val_accuracy: 0.7233\n",
            "Epoch 68/150\n",
            "108/108 [==============================] - 2s 16ms/step - loss: 0.4178 - accuracy: 0.8138 - val_loss: 0.7260 - val_accuracy: 0.6767\n",
            "Epoch 69/150\n",
            "108/108 [==============================] - 1s 14ms/step - loss: 0.4132 - accuracy: 0.8165 - val_loss: 0.4460 - val_accuracy: 0.8047\n",
            "Epoch 70/150\n",
            "108/108 [==============================] - 2s 14ms/step - loss: 0.4593 - accuracy: 0.7891 - val_loss: 0.8699 - val_accuracy: 0.5256\n",
            "Epoch 71/150\n",
            "108/108 [==============================] - 1s 14ms/step - loss: 0.4683 - accuracy: 0.7781 - val_loss: 0.5155 - val_accuracy: 0.7267\n",
            "Epoch 72/150\n",
            "108/108 [==============================] - 1s 14ms/step - loss: 0.5075 - accuracy: 0.7632 - val_loss: 0.6181 - val_accuracy: 0.6628\n",
            "Epoch 73/150\n",
            "108/108 [==============================] - 2s 15ms/step - loss: 0.4900 - accuracy: 0.7621 - val_loss: 0.5310 - val_accuracy: 0.7349\n",
            "Epoch 74/150\n",
            "108/108 [==============================] - 2s 16ms/step - loss: 0.4457 - accuracy: 0.8008 - val_loss: 0.4923 - val_accuracy: 0.7605\n",
            "Epoch 75/150\n",
            "108/108 [==============================] - 1s 14ms/step - loss: 0.4734 - accuracy: 0.7781 - val_loss: 0.5299 - val_accuracy: 0.7512\n",
            "Epoch 76/150\n",
            "108/108 [==============================] - 3s 25ms/step - loss: 0.4288 - accuracy: 0.8130 - val_loss: 0.6118 - val_accuracy: 0.6919\n",
            "Epoch 77/150\n",
            "106/108 [============================>.] - ETA: 0s - loss: 0.4447 - accuracy: 0.7948"
          ],
          "name": "stdout"
        }
      ]
    },
    {
      "cell_type": "code",
      "metadata": {
        "id": "QCam2KNvADKR",
        "colab_type": "code",
        "outputId": "4e8141f5-65b4-41e0-e365-11ebb22ab2ef",
        "colab": {
          "base_uri": "https://localhost:8080/",
          "height": 231
        }
      },
      "source": [
        "# summarize history for accuracy\n",
        "plt.plot(history.history['accuracy'])\n",
        "plt.plot(history.history['val_accuracy'])\n",
        "plt.title('model accuracy')\n",
        "plt.ylabel('accuracy')\n",
        "plt.xlabel('epoch')\n",
        "plt.legend(['train', 'test'], loc='upper left')\n",
        "plt.show()\n",
        "# summarize history for loss\n",
        "plt.plot(history.history['loss'])\n",
        "plt.plot(history.history['val_loss'])\n",
        "plt.title('model loss')\n",
        "plt.ylabel('loss')\n",
        "plt.xlabel('epoch')\n",
        "plt.legend(['train', 'test'], loc='upper left')\n",
        "plt.show()"
      ],
      "execution_count": 0,
      "outputs": [
        {
          "output_type": "error",
          "ename": "NameError",
          "evalue": "ignored",
          "traceback": [
            "\u001b[0;31m---------------------------------------------------------------------------\u001b[0m",
            "\u001b[0;31mNameError\u001b[0m                                 Traceback (most recent call last)",
            "\u001b[0;32m<ipython-input-1-4caafc7eb2de>\u001b[0m in \u001b[0;36m<module>\u001b[0;34m()\u001b[0m\n\u001b[0;32m----> 1\u001b[0;31m \u001b[0mplt\u001b[0m\u001b[0;34m.\u001b[0m\u001b[0mplot\u001b[0m\u001b[0;34m(\u001b[0m\u001b[0mhistory\u001b[0m\u001b[0;34m.\u001b[0m\u001b[0mhistory\u001b[0m\u001b[0;34m[\u001b[0m\u001b[0;34m'accuracy'\u001b[0m\u001b[0;34m]\u001b[0m\u001b[0;34m)\u001b[0m\u001b[0;34m\u001b[0m\u001b[0;34m\u001b[0m\u001b[0m\n\u001b[0m\u001b[1;32m      2\u001b[0m \u001b[0mplt\u001b[0m\u001b[0;34m.\u001b[0m\u001b[0mplot\u001b[0m\u001b[0;34m(\u001b[0m\u001b[0mhistory\u001b[0m\u001b[0;34m.\u001b[0m\u001b[0mhistory\u001b[0m\u001b[0;34m[\u001b[0m\u001b[0;34m'val_accuracy'\u001b[0m\u001b[0;34m]\u001b[0m\u001b[0;34m)\u001b[0m\u001b[0;34m\u001b[0m\u001b[0;34m\u001b[0m\u001b[0m\n\u001b[1;32m      3\u001b[0m \u001b[0mplt\u001b[0m\u001b[0;34m.\u001b[0m\u001b[0mtitle\u001b[0m\u001b[0;34m(\u001b[0m\u001b[0;34m'model accuracy'\u001b[0m\u001b[0;34m)\u001b[0m\u001b[0;34m\u001b[0m\u001b[0;34m\u001b[0m\u001b[0m\n\u001b[1;32m      4\u001b[0m \u001b[0mplt\u001b[0m\u001b[0;34m.\u001b[0m\u001b[0mylabel\u001b[0m\u001b[0;34m(\u001b[0m\u001b[0;34m'accuracy'\u001b[0m\u001b[0;34m)\u001b[0m\u001b[0;34m\u001b[0m\u001b[0;34m\u001b[0m\u001b[0m\n\u001b[1;32m      5\u001b[0m \u001b[0mplt\u001b[0m\u001b[0;34m.\u001b[0m\u001b[0mxlabel\u001b[0m\u001b[0;34m(\u001b[0m\u001b[0;34m'epoch'\u001b[0m\u001b[0;34m)\u001b[0m\u001b[0;34m\u001b[0m\u001b[0;34m\u001b[0m\u001b[0m\n",
            "\u001b[0;31mNameError\u001b[0m: name 'plt' is not defined"
          ]
        }
      ]
    },
    {
      "cell_type": "code",
      "metadata": {
        "id": "ZHfk35D1zMxu",
        "colab_type": "code",
        "outputId": "754526b5-c7ee-407c-a50a-f9b18a80e83b",
        "colab": {
          "base_uri": "https://localhost:8080/",
          "height": 573
        }
      },
      "source": [
        "# summarize history for accuracy\n",
        "plt.plot(history.history['accuracy'])\n",
        "plt.plot(history.history['val_accuracy'])\n",
        "plt.title('model accuracy')\n",
        "plt.ylabel('accuracy')\n",
        "plt.xlabel('epoch')\n",
        "plt.legend(['train', 'test'], loc='upper left')\n",
        "plt.show()\n",
        "# summarize history for loss\n",
        "plt.plot(history.history['loss'])\n",
        "plt.plot(history.history['val_loss'])\n",
        "plt.title('model loss')\n",
        "plt.ylabel('loss')\n",
        "plt.xlabel('epoch')\n",
        "plt.legend(['train', 'test'], loc='upper left')\n",
        "plt.show()"
      ],
      "execution_count": 0,
      "outputs": [
        {
          "output_type": "display_data",
          "data": {
            "image/png": "[encoded data removed]",
            "text/plain": [
              "<Figure size 432x288 with 1 Axes>"
            ]
          },
          "metadata": {
            "tags": [],
            "needs_background": "light"
          }
        },
        {
          "output_type": "display_data",
          "data": {
            "image/png": "[encoded data removed]",
            "text/plain": [
              "<Figure size 432x288 with 1 Axes>"
            ]
          },
          "metadata": {
            "tags": [],
            "needs_background": "light"
          }
        }
      ]
    },
    {
      "cell_type": "code",
      "metadata": {
        "id": "Vr4BaQliOCTo",
        "colab_type": "code",
        "outputId": "652ccab4-742a-40df-f90e-6537034e47d4",
        "colab": {
          "base_uri": "https://localhost:8080/",
          "height": 573
        }
      },
      "source": [
        "# summarize history for accuracy\n",
        "plt.plot(history.history['accuracy'])\n",
        "plt.plot(history.history['val_accuracy'])\n",
        "plt.title('model accuracy')\n",
        "plt.ylabel('accuracy')\n",
        "plt.xlabel('epoch')\n",
        "plt.legend(['train', 'test'], loc='upper left')\n",
        "plt.show()\n",
        "# summarize history for loss\n",
        "plt.plot(history.history['loss'])\n",
        "plt.plot(history.history['val_loss'])\n",
        "plt.title('model loss')\n",
        "plt.ylabel('loss')\n",
        "plt.xlabel('epoch')\n",
        "plt.legend(['train', 'test'], loc='upper left')\n",
        "plt.show()"
      ],
      "execution_count": 0,
      "outputs": [
        {
          "output_type": "display_data",
          "data": {
            "image/png": "[encoded data removed]",
            "text/plain": [
              "<Figure size 432x288 with 1 Axes>"
            ]
          },
          "metadata": {
            "tags": [],
            "needs_background": "light"
          }
        },
        {
          "output_type": "display_data",
          "data": {
            "image/png": "[encoded data removed]",
            "text/plain": [
              "<Figure size 432x288 with 1 Axes>"
            ]
          },
          "metadata": {
            "tags": [],
            "needs_background": "light"
          }
        }
      ]
    },
    {
      "cell_type": "code",
      "metadata": {
        "id": "0tFSO5bOQuEF",
        "colab_type": "code",
        "colab": {}
      },
      "source": [
        "results = model.evaluate(X_test, Y_test, batch_size=32)"
      ],
      "execution_count": 0,
      "outputs": []
    },
    {
      "cell_type": "code",
      "metadata": {
        "id": "bcnQGbjBRJ7F",
        "colab_type": "code",
        "outputId": "1a3847d6-6d22-44b2-ce95-b4807ad2384c",
        "colab": {
          "base_uri": "https://localhost:8080/",
          "height": 34
        }
      },
      "source": [
        "results"
      ],
      "execution_count": 0,
      "outputs": [
        {
          "output_type": "execute_result",
          "data": {
            "text/plain": [
              "[3.099280230278712, 0.54238874]"
            ]
          },
          "metadata": {
            "tags": []
          },
          "execution_count": 49
        }
      ]
    },
    {
      "cell_type": "code",
      "metadata": {
        "id": "-Za6hXyWRnnP",
        "colab_type": "code",
        "outputId": "b6f3e1a8-0b7f-4215-ba01-178f9e4907f5",
        "colab": {
          "base_uri": "https://localhost:8080/",
          "height": 34
        }
      },
      "source": [
        "model.metrics_names"
      ],
      "execution_count": 0,
      "outputs": [
        {
          "output_type": "execute_result",
          "data": {
            "text/plain": [
              "['loss', 'accuracy']"
            ]
          },
          "metadata": {
            "tags": []
          },
          "execution_count": 50
        }
      ]
    },
    {
      "cell_type": "markdown",
      "metadata": {
        "id": "ZwP34JRS5q7w",
        "colab_type": "text"
      },
      "source": [
        "# **Conv2D**"
      ]
    },
    {
      "cell_type": "code",
      "metadata": {
        "id": "GHBoP9Xy51Qm",
        "colab_type": "code",
        "colab": {}
      },
      "source": [
        "from tensorflow.keras.models import Sequential\n",
        "from tensorflow.keras.layers import Dense, Dropout, Activation, Flatten\n",
        "from tensorflow.keras.layers import Conv2D, MaxPooling2D\n",
        "from keras.regularizers import l2\n",
        "from tensorflow.keras.optimizers import Adam"
      ],
      "execution_count": 0,
      "outputs": []
    },
    {
      "cell_type": "code",
      "metadata": {
        "id": "cmUCcoOd6Fh_",
        "colab_type": "code",
        "colab": {}
      },
      "source": [
        "model2 = Sequential()\n",
        "\n",
        "model2.add(Conv2D(256, (5, 5), kernel_regularizer=l2(0.002), input_shape=x_np.shape[1:]))\n",
        "model2.add(Activation('relu'))\n",
        "model2.add(MaxPooling2D(pool_size=(2, 2), strides=(2,2)))\n",
        "\n",
        "model2.add(Conv2D(256, (5, 5), kernel_regularizer=l2(0.002)))\n",
        "model2.add(Activation('relu'))\n",
        "model2.add(MaxPooling2D(pool_size=(2, 2), strides=(2,2)))\n",
        "\n",
        "model2.add(Conv2D(50, (5, 5), kernel_regularizer=l2(0.002)))\n",
        "model2.add(Activation('relu'))\n",
        "model2.add(MaxPooling2D(pool_size=(2, 2), strides=(2,2)))\n",
        "\n",
        "model2.add(Flatten())\n",
        "\n",
        "model2.add(Dense(64))\n",
        "\n",
        "model2.add(Dense(1))\n",
        "model2.add(Activation('sigmoid'))\n",
        "\n",
        "opt = Adam(learning_rate=1e-3, decay=(1e-3) / 100)\n",
        "model2.compile(loss='binary_crossentropy',\n",
        "              optimizer=opt,\n",
        "              metrics=['accuracy'])"
      ],
      "execution_count": 0,
      "outputs": []
    },
    {
      "cell_type": "code",
      "metadata": {
        "id": "7hnyFytR6ivz",
        "colab_type": "code",
        "outputId": "47522163-5ebd-40bf-df85-0f09e74409ce",
        "colab": {
          "base_uri": "https://localhost:8080/",
          "height": 1000
        }
      },
      "source": [
        "h2 = model2.fit(x_np, y_np, batch_size=32, epochs=100, validation_split=0.2)"
      ],
      "execution_count": 0,
      "outputs": [
        {
          "output_type": "stream",
          "text": [
            "Train on 3456 samples, validate on 864 samples\n",
            "Epoch 1/100\n",
            "3456/3456 [==============================] - 21s 6ms/sample - loss: 1.0118 - accuracy: 0.5119 - val_loss: 0.8285 - val_accuracy: 0.5046\n",
            "Epoch 2/100\n",
            "3456/3456 [==============================] - 21s 6ms/sample - loss: 0.8079 - accuracy: 0.5122 - val_loss: 0.7907 - val_accuracy: 0.5046\n",
            "Epoch 3/100\n",
            "3456/3456 [==============================] - 21s 6ms/sample - loss: 0.7783 - accuracy: 0.5075 - val_loss: 0.7672 - val_accuracy: 0.5046\n",
            "Epoch 4/100\n",
            "3456/3456 [==============================] - 21s 6ms/sample - loss: 0.7587 - accuracy: 0.5122 - val_loss: 0.7514 - val_accuracy: 0.5046\n",
            "Epoch 5/100\n",
            "3456/3456 [==============================] - 21s 6ms/sample - loss: 0.7451 - accuracy: 0.5122 - val_loss: 0.7398 - val_accuracy: 0.5046\n",
            "Epoch 6/100\n",
            "3456/3456 [==============================] - 21s 6ms/sample - loss: 0.7355 - accuracy: 0.5020 - val_loss: 0.7312 - val_accuracy: 0.5046\n",
            "Epoch 7/100\n",
            "3456/3456 [==============================] - 21s 6ms/sample - loss: 0.7274 - accuracy: 0.5122 - val_loss: 0.7244 - val_accuracy: 0.5046\n",
            "Epoch 8/100\n",
            "3456/3456 [==============================] - 21s 6ms/sample - loss: 0.7215 - accuracy: 0.5122 - val_loss: 0.7190 - val_accuracy: 0.5046\n",
            "Epoch 9/100\n",
            "3456/3456 [==============================] - 21s 6ms/sample - loss: 0.7169 - accuracy: 0.5122 - val_loss: 0.7151 - val_accuracy: 0.5046\n",
            "Epoch 10/100\n",
            "3456/3456 [==============================] - 21s 6ms/sample - loss: 0.7133 - accuracy: 0.5122 - val_loss: 0.7114 - val_accuracy: 0.5046\n",
            "Epoch 11/100\n",
            "3456/3456 [==============================] - 21s 6ms/sample - loss: 0.7100 - accuracy: 0.4942 - val_loss: 0.7093 - val_accuracy: 0.5046\n",
            "Epoch 12/100\n",
            "3456/3456 [==============================] - 21s 6ms/sample - loss: 0.7073 - accuracy: 0.5122 - val_loss: 0.7063 - val_accuracy: 0.5046\n",
            "Epoch 13/100\n",
            "3456/3456 [==============================] - 21s 6ms/sample - loss: 0.7054 - accuracy: 0.5122 - val_loss: 0.7044 - val_accuracy: 0.5046\n",
            "Epoch 14/100\n",
            "3456/3456 [==============================] - 21s 6ms/sample - loss: 0.7034 - accuracy: 0.5081 - val_loss: 0.7029 - val_accuracy: 0.5046\n",
            "Epoch 15/100\n",
            "3456/3456 [==============================] - 21s 6ms/sample - loss: 0.7021 - accuracy: 0.5029 - val_loss: 0.7013 - val_accuracy: 0.5046\n",
            "Epoch 16/100\n",
            "3456/3456 [==============================] - 21s 6ms/sample - loss: 0.7007 - accuracy: 0.5122 - val_loss: 0.7001 - val_accuracy: 0.5046\n",
            "Epoch 17/100\n",
            "3456/3456 [==============================] - 21s 6ms/sample - loss: 0.6994 - accuracy: 0.5122 - val_loss: 0.6993 - val_accuracy: 0.5046\n",
            "Epoch 18/100\n",
            "3456/3456 [==============================] - 21s 6ms/sample - loss: 0.6985 - accuracy: 0.5122 - val_loss: 0.6982 - val_accuracy: 0.5046\n",
            "Epoch 19/100\n",
            "3456/3456 [==============================] - 21s 6ms/sample - loss: 0.6975 - accuracy: 0.5110 - val_loss: 0.6974 - val_accuracy: 0.4954\n",
            "Epoch 20/100\n",
            "3456/3456 [==============================] - 21s 6ms/sample - loss: 0.6969 - accuracy: 0.5029 - val_loss: 0.6969 - val_accuracy: 0.5046\n",
            "Epoch 21/100\n",
            "3456/3456 [==============================] - 21s 6ms/sample - loss: 0.6964 - accuracy: 0.5122 - val_loss: 0.6962 - val_accuracy: 0.5046\n",
            "Epoch 22/100\n",
            "3456/3456 [==============================] - 21s 6ms/sample - loss: 0.6958 - accuracy: 0.5122 - val_loss: 0.6956 - val_accuracy: 0.5046\n",
            "Epoch 23/100\n",
            "3456/3456 [==============================] - 21s 6ms/sample - loss: 0.6956 - accuracy: 0.5093 - val_loss: 0.6952 - val_accuracy: 0.5046\n",
            "Epoch 24/100\n",
            "3456/3456 [==============================] - 21s 6ms/sample - loss: 0.6951 - accuracy: 0.5122 - val_loss: 0.6949 - val_accuracy: 0.5046\n",
            "Epoch 25/100\n",
            "3456/3456 [==============================] - 21s 6ms/sample - loss: 0.6946 - accuracy: 0.5122 - val_loss: 0.6947 - val_accuracy: 0.5046\n",
            "Epoch 26/100\n",
            "3456/3456 [==============================] - 21s 6ms/sample - loss: 0.6944 - accuracy: 0.5122 - val_loss: 0.6945 - val_accuracy: 0.5046\n",
            "Epoch 27/100\n",
            "3456/3456 [==============================] - 21s 6ms/sample - loss: 0.6942 - accuracy: 0.5122 - val_loss: 0.6941 - val_accuracy: 0.5046\n",
            "Epoch 28/100\n",
            "3456/3456 [==============================] - 21s 6ms/sample - loss: 0.6939 - accuracy: 0.5122 - val_loss: 0.6939 - val_accuracy: 0.5046\n",
            "Epoch 29/100\n",
            "3456/3456 [==============================] - 21s 6ms/sample - loss: 0.6940 - accuracy: 0.5122 - val_loss: 0.6940 - val_accuracy: 0.5046\n",
            "Epoch 30/100\n",
            "3456/3456 [==============================] - 21s 6ms/sample - loss: 0.6937 - accuracy: 0.5122 - val_loss: 0.6937 - val_accuracy: 0.5046\n",
            "Epoch 31/100\n",
            "3456/3456 [==============================] - 21s 6ms/sample - loss: 0.6936 - accuracy: 0.5122 - val_loss: 0.6936 - val_accuracy: 0.5046\n",
            "Epoch 32/100\n",
            "3456/3456 [==============================] - 21s 6ms/sample - loss: 0.6936 - accuracy: 0.5122 - val_loss: 0.6935 - val_accuracy: 0.5046\n",
            "Epoch 33/100\n",
            "3456/3456 [==============================] - 21s 6ms/sample - loss: 0.6934 - accuracy: 0.5122 - val_loss: 0.6934 - val_accuracy: 0.5046\n",
            "Epoch 34/100\n",
            "3456/3456 [==============================] - 21s 6ms/sample - loss: 0.6935 - accuracy: 0.5041 - val_loss: 0.6935 - val_accuracy: 0.5046\n",
            "Epoch 35/100\n",
            "3456/3456 [==============================] - 21s 6ms/sample - loss: 0.6933 - accuracy: 0.4971 - val_loss: 0.6938 - val_accuracy: 0.5046\n",
            "Epoch 36/100\n",
            "3456/3456 [==============================] - 21s 6ms/sample - loss: 0.6933 - accuracy: 0.5122 - val_loss: 0.6933 - val_accuracy: 0.5046\n",
            "Epoch 37/100\n",
            "3456/3456 [==============================] - 21s 6ms/sample - loss: 0.6934 - accuracy: 0.5052 - val_loss: 0.6933 - val_accuracy: 0.4954\n",
            "Epoch 38/100\n",
            "3456/3456 [==============================] - 21s 6ms/sample - loss: 0.6933 - accuracy: 0.5127 - val_loss: 0.6932 - val_accuracy: 0.5046\n",
            "Epoch 39/100\n",
            "3456/3456 [==============================] - 21s 6ms/sample - loss: 0.6932 - accuracy: 0.5122 - val_loss: 0.6932 - val_accuracy: 0.5046\n",
            "Epoch 40/100\n",
            "3456/3456 [==============================] - 21s 6ms/sample - loss: 0.6932 - accuracy: 0.5012 - val_loss: 0.6939 - val_accuracy: 0.5046\n",
            "Epoch 41/100\n",
            "3456/3456 [==============================] - 21s 6ms/sample - loss: 0.6932 - accuracy: 0.5069 - val_loss: 0.6938 - val_accuracy: 0.5046\n",
            "Epoch 42/100\n",
            "3456/3456 [==============================] - 21s 6ms/sample - loss: 0.6933 - accuracy: 0.5122 - val_loss: 0.6935 - val_accuracy: 0.5046\n",
            "Epoch 43/100\n",
            "3456/3456 [==============================] - 21s 6ms/sample - loss: 0.6933 - accuracy: 0.5122 - val_loss: 0.6931 - val_accuracy: 0.5046\n",
            "Epoch 44/100\n",
            "3456/3456 [==============================] - 21s 6ms/sample - loss: 0.6931 - accuracy: 0.5122 - val_loss: 0.6933 - val_accuracy: 0.5046\n",
            "Epoch 45/100\n",
            "3456/3456 [==============================] - 21s 6ms/sample - loss: 0.6930 - accuracy: 0.5122 - val_loss: 0.6933 - val_accuracy: 0.5046\n",
            "Epoch 46/100\n",
            "3456/3456 [==============================] - 21s 6ms/sample - loss: 0.6930 - accuracy: 0.5122 - val_loss: 0.6932 - val_accuracy: 0.5046\n",
            "Epoch 47/100\n",
            "3456/3456 [==============================] - 21s 6ms/sample - loss: 0.6930 - accuracy: 0.5122 - val_loss: 0.6934 - val_accuracy: 0.5046\n",
            "Epoch 48/100\n",
            "3456/3456 [==============================] - 21s 6ms/sample - loss: 0.6934 - accuracy: 0.5122 - val_loss: 0.6933 - val_accuracy: 0.5046\n",
            "Epoch 49/100\n",
            "3456/3456 [==============================] - 21s 6ms/sample - loss: 0.6932 - accuracy: 0.4994 - val_loss: 0.6935 - val_accuracy: 0.5046\n",
            "Epoch 50/100\n",
            "3456/3456 [==============================] - 21s 6ms/sample - loss: 0.6931 - accuracy: 0.5122 - val_loss: 0.6936 - val_accuracy: 0.5046\n",
            "Epoch 51/100\n",
            "3456/3456 [==============================] - 21s 6ms/sample - loss: 0.6931 - accuracy: 0.5122 - val_loss: 0.6932 - val_accuracy: 0.5046\n",
            "Epoch 52/100\n",
            "3456/3456 [==============================] - 21s 6ms/sample - loss: 0.6930 - accuracy: 0.5122 - val_loss: 0.6932 - val_accuracy: 0.5046\n",
            "Epoch 53/100\n",
            "3456/3456 [==============================] - 21s 6ms/sample - loss: 0.6931 - accuracy: 0.5122 - val_loss: 0.6935 - val_accuracy: 0.5046\n",
            "Epoch 54/100\n",
            "3456/3456 [==============================] - 21s 6ms/sample - loss: 0.6931 - accuracy: 0.5122 - val_loss: 0.6932 - val_accuracy: 0.5046\n",
            "Epoch 55/100\n",
            "3456/3456 [==============================] - 21s 6ms/sample - loss: 0.6931 - accuracy: 0.5122 - val_loss: 0.6933 - val_accuracy: 0.5046\n",
            "Epoch 56/100\n",
            "3456/3456 [==============================] - 21s 6ms/sample - loss: 0.6930 - accuracy: 0.5122 - val_loss: 0.6931 - val_accuracy: 0.5046\n",
            "Epoch 57/100\n",
            "3456/3456 [==============================] - 21s 6ms/sample - loss: 0.6930 - accuracy: 0.5122 - val_loss: 0.6933 - val_accuracy: 0.5046\n",
            "Epoch 58/100\n",
            "3456/3456 [==============================] - 21s 6ms/sample - loss: 0.6931 - accuracy: 0.5122 - val_loss: 0.6932 - val_accuracy: 0.5046\n",
            "Epoch 59/100\n",
            "3456/3456 [==============================] - 21s 6ms/sample - loss: 0.6930 - accuracy: 0.5122 - val_loss: 0.6935 - val_accuracy: 0.5046\n",
            "Epoch 60/100\n",
            "3456/3456 [==============================] - 21s 6ms/sample - loss: 0.6931 - accuracy: 0.5122 - val_loss: 0.6932 - val_accuracy: 0.5046\n",
            "Epoch 61/100\n",
            "3456/3456 [==============================] - 21s 6ms/sample - loss: 0.6930 - accuracy: 0.5122 - val_loss: 0.6932 - val_accuracy: 0.5046\n",
            "Epoch 62/100\n",
            "3456/3456 [==============================] - 21s 6ms/sample - loss: 0.6930 - accuracy: 0.5122 - val_loss: 0.6932 - val_accuracy: 0.5046\n",
            "Epoch 63/100\n",
            "3456/3456 [==============================] - 21s 6ms/sample - loss: 0.6930 - accuracy: 0.5122 - val_loss: 0.6932 - val_accuracy: 0.5046\n",
            "Epoch 64/100\n",
            "3456/3456 [==============================] - 21s 6ms/sample - loss: 0.6929 - accuracy: 0.5122 - val_loss: 0.6931 - val_accuracy: 0.5046\n",
            "Epoch 65/100\n",
            "3456/3456 [==============================] - 21s 6ms/sample - loss: 0.6930 - accuracy: 0.5122 - val_loss: 0.6932 - val_accuracy: 0.5046\n",
            "Epoch 66/100\n",
            "3456/3456 [==============================] - 21s 6ms/sample - loss: 0.6930 - accuracy: 0.5122 - val_loss: 0.6936 - val_accuracy: 0.5046\n",
            "Epoch 67/100\n",
            "3456/3456 [==============================] - 21s 6ms/sample - loss: 0.6931 - accuracy: 0.5122 - val_loss: 0.6933 - val_accuracy: 0.5046\n",
            "Epoch 68/100\n",
            "3456/3456 [==============================] - 21s 6ms/sample - loss: 0.6930 - accuracy: 0.5122 - val_loss: 0.6932 - val_accuracy: 0.5046\n",
            "Epoch 69/100\n",
            "3456/3456 [==============================] - 21s 6ms/sample - loss: 0.6930 - accuracy: 0.5122 - val_loss: 0.6934 - val_accuracy: 0.5046\n",
            "Epoch 70/100\n",
            "3456/3456 [==============================] - 21s 6ms/sample - loss: 0.6930 - accuracy: 0.5122 - val_loss: 0.6935 - val_accuracy: 0.5046\n",
            "Epoch 71/100\n",
            "3456/3456 [==============================] - 21s 6ms/sample - loss: 0.6930 - accuracy: 0.5122 - val_loss: 0.6931 - val_accuracy: 0.5046\n",
            "Epoch 72/100\n",
            "3456/3456 [==============================] - 21s 6ms/sample - loss: 0.6930 - accuracy: 0.5122 - val_loss: 0.6932 - val_accuracy: 0.5046\n",
            "Epoch 73/100\n",
            "3456/3456 [==============================] - 21s 6ms/sample - loss: 0.6930 - accuracy: 0.5122 - val_loss: 0.6935 - val_accuracy: 0.5046\n",
            "Epoch 74/100\n",
            "3456/3456 [==============================] - 21s 6ms/sample - loss: 0.6931 - accuracy: 0.5122 - val_loss: 0.6932 - val_accuracy: 0.5046\n",
            "Epoch 75/100\n",
            "3456/3456 [==============================] - 21s 6ms/sample - loss: 0.6932 - accuracy: 0.5122 - val_loss: 0.6931 - val_accuracy: 0.5046\n",
            "Epoch 76/100\n",
            "3456/3456 [==============================] - 21s 6ms/sample - loss: 0.6929 - accuracy: 0.5122 - val_loss: 0.6933 - val_accuracy: 0.5046\n",
            "Epoch 77/100\n",
            "3456/3456 [==============================] - 21s 6ms/sample - loss: 0.6930 - accuracy: 0.5122 - val_loss: 0.6932 - val_accuracy: 0.5046\n",
            "Epoch 78/100\n",
            "3456/3456 [==============================] - 21s 6ms/sample - loss: 0.6931 - accuracy: 0.5122 - val_loss: 0.6932 - val_accuracy: 0.5046\n",
            "Epoch 79/100\n",
            "3456/3456 [==============================] - 21s 6ms/sample - loss: 0.6930 - accuracy: 0.5122 - val_loss: 0.6932 - val_accuracy: 0.5046\n",
            "Epoch 80/100\n",
            "3456/3456 [==============================] - 21s 6ms/sample - loss: 0.6930 - accuracy: 0.5122 - val_loss: 0.6932 - val_accuracy: 0.5046\n",
            "Epoch 81/100\n",
            "3456/3456 [==============================] - 21s 6ms/sample - loss: 0.6930 - accuracy: 0.5122 - val_loss: 0.6932 - val_accuracy: 0.5046\n",
            "Epoch 82/100\n",
            "3456/3456 [==============================] - 21s 6ms/sample - loss: 0.6930 - accuracy: 0.5122 - val_loss: 0.6932 - val_accuracy: 0.5046\n",
            "Epoch 83/100\n",
            "3456/3456 [==============================] - 21s 6ms/sample - loss: 0.6931 - accuracy: 0.5122 - val_loss: 0.6932 - val_accuracy: 0.5046\n",
            "Epoch 84/100\n",
            "3456/3456 [==============================] - 21s 6ms/sample - loss: 0.6930 - accuracy: 0.5122 - val_loss: 0.6933 - val_accuracy: 0.5046\n",
            "Epoch 85/100\n",
            "3456/3456 [==============================] - 21s 6ms/sample - loss: 0.6931 - accuracy: 0.5122 - val_loss: 0.6933 - val_accuracy: 0.5046\n",
            "Epoch 86/100\n",
            "3456/3456 [==============================] - 21s 6ms/sample - loss: 0.6929 - accuracy: 0.5122 - val_loss: 0.6932 - val_accuracy: 0.5046\n",
            "Epoch 87/100\n",
            "3456/3456 [==============================] - 21s 6ms/sample - loss: 0.6931 - accuracy: 0.5122 - val_loss: 0.6933 - val_accuracy: 0.5046\n",
            "Epoch 88/100\n",
            "3456/3456 [==============================] - 21s 6ms/sample - loss: 0.6930 - accuracy: 0.5122 - val_loss: 0.6932 - val_accuracy: 0.5046\n",
            "Epoch 89/100\n",
            "3456/3456 [==============================] - 21s 6ms/sample - loss: 0.6929 - accuracy: 0.5122 - val_loss: 0.6932 - val_accuracy: 0.5046\n",
            "Epoch 90/100\n",
            "3456/3456 [==============================] - 21s 6ms/sample - loss: 0.6929 - accuracy: 0.5122 - val_loss: 0.6933 - val_accuracy: 0.5046\n",
            "Epoch 91/100\n",
            "3456/3456 [==============================] - 21s 6ms/sample - loss: 0.6930 - accuracy: 0.5122 - val_loss: 0.6932 - val_accuracy: 0.5046\n",
            "Epoch 92/100\n",
            "3456/3456 [==============================] - 21s 6ms/sample - loss: 0.6931 - accuracy: 0.5122 - val_loss: 0.6932 - val_accuracy: 0.5046\n",
            "Epoch 93/100\n",
            "3456/3456 [==============================] - 21s 6ms/sample - loss: 0.6929 - accuracy: 0.5122 - val_loss: 0.6932 - val_accuracy: 0.5046\n",
            "Epoch 94/100\n",
            "3456/3456 [==============================] - 21s 6ms/sample - loss: 0.6929 - accuracy: 0.5122 - val_loss: 0.6932 - val_accuracy: 0.5046\n",
            "Epoch 95/100\n",
            "3456/3456 [==============================] - 21s 6ms/sample - loss: 0.6930 - accuracy: 0.5122 - val_loss: 0.6932 - val_accuracy: 0.5046\n",
            "Epoch 96/100\n",
            "3456/3456 [==============================] - 21s 6ms/sample - loss: 0.6930 - accuracy: 0.5122 - val_loss: 0.6932 - val_accuracy: 0.5046\n",
            "Epoch 97/100\n",
            "3456/3456 [==============================] - 21s 6ms/sample - loss: 0.6929 - accuracy: 0.5122 - val_loss: 0.6932 - val_accuracy: 0.5046\n",
            "Epoch 98/100\n",
            "3456/3456 [==============================] - 21s 6ms/sample - loss: 0.6929 - accuracy: 0.5122 - val_loss: 0.6932 - val_accuracy: 0.5046\n",
            "Epoch 99/100\n",
            "3456/3456 [==============================] - 21s 6ms/sample - loss: 0.6930 - accuracy: 0.5122 - val_loss: 0.6932 - val_accuracy: 0.5046\n",
            "Epoch 100/100\n",
            "3456/3456 [==============================] - 21s 6ms/sample - loss: 0.6929 - accuracy: 0.5122 - val_loss: 0.6933 - val_accuracy: 0.5046\n"
          ],
          "name": "stdout"
        }
      ]
    },
    {
      "cell_type": "markdown",
      "metadata": {
        "id": "V2IVzWAh6wro",
        "colab_type": "text"
      },
      "source": [
        "100 epoch + L2"
      ]
    },
    {
      "cell_type": "code",
      "metadata": {
        "id": "r-6PbyBI575H",
        "colab_type": "code",
        "outputId": "69bebf1c-9eb4-4a89-faa8-2ab049a4027e",
        "colab": {
          "base_uri": "https://localhost:8080/",
          "height": 573
        }
      },
      "source": [
        "# summarize history for accuracy\n",
        "plt.plot(h2.history['accuracy'])\n",
        "plt.plot(h2.history['val_accuracy'])\n",
        "plt.title('model accuracy')\n",
        "plt.ylabel('accuracy')\n",
        "plt.xlabel('epoch')\n",
        "plt.legend(['train', 'test'], loc='upper left')\n",
        "plt.show()\n",
        "# summarize history for loss\n",
        "plt.plot(h2.history['loss'])\n",
        "plt.plot(h2.history['val_loss'])\n",
        "plt.title('model loss')\n",
        "plt.ylabel('loss')\n",
        "plt.xlabel('epoch')\n",
        "plt.legend(['train', 'test'], loc='upper left')\n",
        "plt.show()"
      ],
      "execution_count": 0,
      "outputs": [
        {
          "output_type": "display_data",
          "data": {
            "image/png": "[encoded data removed]",
            "text/plain": [
              "<Figure size 432x288 with 1 Axes>"
            ]
          },
          "metadata": {
            "tags": [],
            "needs_background": "light"
          }
        },
        {
          "output_type": "display_data",
          "data": {
            "image/png": "[encoded data removed]",
            "text/plain": [
              "<Figure size 432x288 with 1 Axes>"
            ]
          },
          "metadata": {
            "tags": [],
            "needs_background": "light"
          }
        }
      ]
    },
    {
      "cell_type": "markdown",
      "metadata": {
        "id": "SFOU6z7k608N",
        "colab_type": "text"
      },
      "source": [
        "20 epoch + No Regularization\n"
      ]
    },
    {
      "cell_type": "code",
      "metadata": {
        "id": "NFPLGMvoSosG",
        "colab_type": "code",
        "outputId": "f81e873a-25a6-489c-efa4-7a24bb5c0548",
        "colab": {
          "base_uri": "https://localhost:8080/",
          "height": 573
        }
      },
      "source": [
        "# summarize history for accuracy\n",
        "plt.plot(h2.history['accuracy'])\n",
        "plt.plot(h2.history['val_accuracy'])\n",
        "plt.title('model accuracy')\n",
        "plt.ylabel('accuracy')\n",
        "plt.xlabel('epoch')\n",
        "plt.legend(['train', 'test'], loc='upper left')\n",
        "plt.show()\n",
        "# summarize history for loss\n",
        "plt.plot(h2.history['loss'])\n",
        "plt.plot(h2.history['val_loss'])\n",
        "plt.title('model loss')\n",
        "plt.ylabel('loss')\n",
        "plt.xlabel('epoch')\n",
        "plt.legend(['train', 'test'], loc='upper left')\n",
        "plt.show()"
      ],
      "execution_count": 0,
      "outputs": [
        {
          "output_type": "display_data",
          "data": {
            "image/png": "[encoded data removed]",
            "text/plain": [
              "<Figure size 432x288 with 1 Axes>"
            ]
          },
          "metadata": {
            "tags": [],
            "needs_background": "light"
          }
        },
        {
          "output_type": "display_data",
          "data": {
            "image/png": "[encoded data removed]",
            "text/plain": [
              "<Figure size 432x288 with 1 Axes>"
            ]
          },
          "metadata": {
            "tags": [],
            "needs_background": "light"
          }
        }
      ]
    },
    {
      "cell_type": "markdown",
      "metadata": {
        "id": "MPO0QUjo65VM",
        "colab_type": "text"
      },
      "source": [
        "20 epoch + L2"
      ]
    },
    {
      "cell_type": "code",
      "metadata": {
        "id": "x8SqhqXxWN-2",
        "colab_type": "code",
        "outputId": "698d66ab-d310-4d57-eac8-29c79255e90c",
        "colab": {
          "base_uri": "https://localhost:8080/",
          "height": 573
        }
      },
      "source": [
        "# summarize history for accuracy\n",
        "plt.plot(h2.history['accuracy'])\n",
        "plt.plot(h2.history['val_accuracy'])\n",
        "plt.title('model accuracy')\n",
        "plt.ylabel('accuracy')\n",
        "plt.xlabel('epoch')\n",
        "plt.legend(['train', 'test'], loc='upper left')\n",
        "plt.show()\n",
        "# summarize history for loss\n",
        "plt.plot(h2.history['loss'])\n",
        "plt.plot(h2.history['val_loss'])\n",
        "plt.title('model loss')\n",
        "plt.ylabel('loss')\n",
        "plt.xlabel('epoch')\n",
        "plt.legend(['train', 'test'], loc='upper left')\n",
        "plt.show()"
      ],
      "execution_count": 0,
      "outputs": [
        {
          "output_type": "display_data",
          "data": {
            "image/png": "[encoded data removed]",
            "text/plain": [
              "<Figure size 432x288 with 1 Axes>"
            ]
          },
          "metadata": {
            "tags": [],
            "needs_background": "light"
          }
        },
        {
          "output_type": "display_data",
          "data": {
            "image/png": "[encoded data removed]",
            "text/plain": [
              "<Figure size 432x288 with 1 Axes>"
            ]
          },
          "metadata": {
            "tags": [],
            "needs_background": "light"
          }
        }
      ]
    }
  ]
}