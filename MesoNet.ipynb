{
  "nbformat": 4,
  "nbformat_minor": 0,
  "metadata": {
    "colab": {
      "name": "MesoNet.ipynb",
      "provenance": [],
      "toc_visible": true
    },
    "kernelspec": {
      "name": "python3",
      "display_name": "Python 3"
    },
    "accelerator": "GPU"
  },
  "cells": [
    {
      "cell_type": "code",
      "metadata": {
        "id": "1yGBo74IjG-W",
        "colab_type": "code",
        "colab": {
          "base_uri": "https://localhost:8080/",
          "height": 125
        },
        "outputId": "7effbdfc-e58b-4741-e0fb-1c02f4cc4210"
      },
      "source": [
        "from google.colab import drive\n",
        "drive.mount('/content/drive')"
      ],
      "execution_count": 3,
      "outputs": [
        {
          "output_type": "stream",
          "text": [
            "Go to this URL in a browser: https://accounts.google.com/o/oauth2/auth?client_id=947318989803-6bn6qk8qdgf4n4g3pfee6491hc0brc4i.apps.googleusercontent.com&redirect_uri=urn%3aietf%3awg%3aoauth%3a2.0%3aoob&response_type=code&scope=email%20https%3a%2f%2fwww.googleapis.com%2fauth%2fdocs.test%20https%3a%2f%2fwww.googleapis.com%2fauth%2fdrive%20https%3a%2f%2fwww.googleapis.com%2fauth%2fdrive.photos.readonly%20https%3a%2f%2fwww.googleapis.com%2fauth%2fpeopleapi.readonly\n",
            "\n",
            "Enter your authorization code:\n",
            "··········\n",
            "Mounted at /content/drive\n"
          ],
          "name": "stdout"
        }
      ]
    },
    {
      "cell_type": "code",
      "metadata": {
        "id": "VqzITPXCVbeo",
        "colab_type": "code",
        "colab": {
          "base_uri": "https://localhost:8080/",
          "height": 481
        },
        "outputId": "650e909a-0291-45ee-fda0-6439459f5ebb"
      },
      "source": [
        "!pip install ffmpeg\n",
        "!pip3 install face_recognition"
      ],
      "execution_count": 1,
      "outputs": [
        {
          "output_type": "stream",
          "text": [
            "Collecting ffmpeg\n",
            "  Downloading https://files.pythonhosted.org/packages/f0/cc/3b7408b8ecf7c1d20ad480c3eaed7619857bf1054b690226e906fdf14258/ffmpeg-1.4.tar.gz\n",
            "Building wheels for collected packages: ffmpeg\n",
            "  Building wheel for ffmpeg (setup.py) ... \u001b[?25l\u001b[?25hdone\n",
            "  Created wheel for ffmpeg: filename=ffmpeg-1.4-cp36-none-any.whl size=6084 sha256=87666d2b00b529ddbd2a60a6d7338a8c6f452239b4fa6e04dcd0b0be17e6eab7\n",
            "  Stored in directory: /root/.cache/pip/wheels/b6/68/c3/a05a35f647ba871e5572b9bbfc0b95fd1c6637a2219f959e7a\n",
            "Successfully built ffmpeg\n",
            "Installing collected packages: ffmpeg\n",
            "Successfully installed ffmpeg-1.4\n",
            "Collecting face_recognition\n",
            "  Downloading https://files.pythonhosted.org/packages/3f/ed/ad9a28042f373d4633fc8b49109b623597d6f193d3bbbef7780a5ee8eef2/face_recognition-1.2.3-py2.py3-none-any.whl\n",
            "Requirement already satisfied: dlib>=19.7 in /usr/local/lib/python3.6/dist-packages (from face_recognition) (19.18.0)\n",
            "Collecting face-recognition-models>=0.3.0\n",
            "\u001b[?25l  Downloading https://files.pythonhosted.org/packages/cf/3b/4fd8c534f6c0d1b80ce0973d01331525538045084c73c153ee6df20224cf/face_recognition_models-0.3.0.tar.gz (100.1MB)\n",
            "\u001b[K     |████████████████████████████████| 100.2MB 73kB/s \n",
            "\u001b[?25hRequirement already satisfied: Pillow in /usr/local/lib/python3.6/dist-packages (from face_recognition) (6.2.2)\n",
            "Requirement already satisfied: Click>=6.0 in /usr/local/lib/python3.6/dist-packages (from face_recognition) (7.0)\n",
            "Requirement already satisfied: numpy in /usr/local/lib/python3.6/dist-packages (from face_recognition) (1.17.5)\n",
            "Building wheels for collected packages: face-recognition-models\n",
            "  Building wheel for face-recognition-models (setup.py) ... \u001b[?25l\u001b[?25hdone\n",
            "  Created wheel for face-recognition-models: filename=face_recognition_models-0.3.0-py2.py3-none-any.whl size=100566172 sha256=3036e79ef1331d59ef25a89b090bf4958960245b631c6d7d046065a9456fe830\n",
            "  Stored in directory: /root/.cache/pip/wheels/d2/99/18/59c6c8f01e39810415c0e63f5bede7d83dfb0ffc039865465f\n",
            "Successfully built face-recognition-models\n",
            "Installing collected packages: face-recognition-models, face-recognition\n",
            "Successfully installed face-recognition-1.2.3 face-recognition-models-0.3.0\n"
          ],
          "name": "stdout"
        }
      ]
    },
    {
      "cell_type": "code",
      "metadata": {
        "id": "bTJrk9ugXYrp",
        "colab_type": "code",
        "colab": {
          "base_uri": "https://localhost:8080/",
          "height": 232
        },
        "outputId": "b3646787-62f3-4c51-ce4a-f42fde7cec2d"
      },
      "source": [
        "!pip install -U imageio==2.6.1"
      ],
      "execution_count": 2,
      "outputs": [
        {
          "output_type": "stream",
          "text": [
            "Collecting imageio==2.6.1\n",
            "\u001b[?25l  Downloading https://files.pythonhosted.org/packages/1a/de/f7f985018f462ceeffada7f6e609919fbcc934acd9301929cba14bc2c24a/imageio-2.6.1-py3-none-any.whl (3.3MB)\n",
            "\r\u001b[K     |                                | 10kB 21.4MB/s eta 0:00:01\r\u001b[K     |▏                               | 20kB 1.7MB/s eta 0:00:02\r\u001b[K     |▎                               | 30kB 2.4MB/s eta 0:00:02\r\u001b[K     |▍                               | 40kB 1.6MB/s eta 0:00:03\r\u001b[K     |▌                               | 51kB 2.0MB/s eta 0:00:02\r\u001b[K     |▋                               | 61kB 2.4MB/s eta 0:00:02\r\u001b[K     |▊                               | 71kB 2.8MB/s eta 0:00:02\r\u001b[K     |▉                               | 81kB 3.2MB/s eta 0:00:02\r\u001b[K     |█                               | 92kB 3.6MB/s eta 0:00:01\r\u001b[K     |█                               | 102kB 2.7MB/s eta 0:00:02\r\u001b[K     |█                               | 112kB 2.7MB/s eta 0:00:02\r\u001b[K     |█▏                              | 122kB 2.7MB/s eta 0:00:02\r\u001b[K     |█▎                              | 133kB 2.7MB/s eta 0:00:02\r\u001b[K     |█▍                              | 143kB 2.7MB/s eta 0:00:02\r\u001b[K     |█▌                              | 153kB 2.7MB/s eta 0:00:02\r\u001b[K     |█▋                              | 163kB 2.7MB/s eta 0:00:02\r\u001b[K     |█▊                              | 174kB 2.7MB/s eta 0:00:02\r\u001b[K     |█▉                              | 184kB 2.7MB/s eta 0:00:02\r\u001b[K     |█▉                              | 194kB 2.7MB/s eta 0:00:02\r\u001b[K     |██                              | 204kB 2.7MB/s eta 0:00:02\r\u001b[K     |██                              | 215kB 2.7MB/s eta 0:00:02\r\u001b[K     |██▏                             | 225kB 2.7MB/s eta 0:00:02\r\u001b[K     |██▎                             | 235kB 2.7MB/s eta 0:00:02\r\u001b[K     |██▍                             | 245kB 2.7MB/s eta 0:00:02\r\u001b[K     |██▌                             | 256kB 2.7MB/s eta 0:00:02\r\u001b[K     |██▋                             | 266kB 2.7MB/s eta 0:00:02\r\u001b[K     |██▊                             | 276kB 2.7MB/s eta 0:00:02\r\u001b[K     |██▊                             | 286kB 2.7MB/s eta 0:00:02\r\u001b[K     |██▉                             | 296kB 2.7MB/s eta 0:00:02\r\u001b[K     |███                             | 307kB 2.7MB/s eta 0:00:02\r\u001b[K     |███                             | 317kB 2.7MB/s eta 0:00:02\r\u001b[K     |███▏                            | 327kB 2.7MB/s eta 0:00:02\r\u001b[K     |███▎                            | 337kB 2.7MB/s eta 0:00:02\r\u001b[K     |███▍                            | 348kB 2.7MB/s eta 0:00:02\r\u001b[K     |███▌                            | 358kB 2.7MB/s eta 0:00:02\r\u001b[K     |███▋                            | 368kB 2.7MB/s eta 0:00:02\r\u001b[K     |███▋                            | 378kB 2.7MB/s eta 0:00:02\r\u001b[K     |███▊                            | 389kB 2.7MB/s eta 0:00:02\r\u001b[K     |███▉                            | 399kB 2.7MB/s eta 0:00:02\r\u001b[K     |████                            | 409kB 2.7MB/s eta 0:00:02\r\u001b[K     |████                            | 419kB 2.7MB/s eta 0:00:02\r\u001b[K     |████▏                           | 430kB 2.7MB/s eta 0:00:02\r\u001b[K     |████▎                           | 440kB 2.7MB/s eta 0:00:02\r\u001b[K     |████▍                           | 450kB 2.7MB/s eta 0:00:02\r\u001b[K     |████▌                           | 460kB 2.7MB/s eta 0:00:02\r\u001b[K     |████▌                           | 471kB 2.7MB/s eta 0:00:02\r\u001b[K     |████▋                           | 481kB 2.7MB/s eta 0:00:02\r\u001b[K     |████▊                           | 491kB 2.7MB/s eta 0:00:02\r\u001b[K     |████▉                           | 501kB 2.7MB/s eta 0:00:02\r\u001b[K     |█████                           | 512kB 2.7MB/s eta 0:00:02\r\u001b[K     |█████                           | 522kB 2.7MB/s eta 0:00:02\r\u001b[K     |█████▏                          | 532kB 2.7MB/s eta 0:00:02\r\u001b[K     |█████▎                          | 542kB 2.7MB/s eta 0:00:02\r\u001b[K     |█████▍                          | 552kB 2.7MB/s eta 0:00:02\r\u001b[K     |█████▍                          | 563kB 2.7MB/s eta 0:00:02\r\u001b[K     |█████▌                          | 573kB 2.7MB/s eta 0:00:02\r\u001b[K     |█████▋                          | 583kB 2.7MB/s eta 0:00:02\r\u001b[K     |█████▊                          | 593kB 2.7MB/s eta 0:00:02\r\u001b[K     |█████▉                          | 604kB 2.7MB/s eta 0:00:02\r\u001b[K     |██████                          | 614kB 2.7MB/s eta 0:00:01\r\u001b[K     |██████                          | 624kB 2.7MB/s eta 0:00:01\r\u001b[K     |██████▏                         | 634kB 2.7MB/s eta 0:00:01\r\u001b[K     |██████▎                         | 645kB 2.7MB/s eta 0:00:01\r\u001b[K     |██████▎                         | 655kB 2.7MB/s eta 0:00:01\r\u001b[K     |██████▍                         | 665kB 2.7MB/s eta 0:00:01\r\u001b[K     |██████▌                         | 675kB 2.7MB/s eta 0:00:01\r\u001b[K     |██████▋                         | 686kB 2.7MB/s eta 0:00:01\r\u001b[K     |██████▊                         | 696kB 2.7MB/s eta 0:00:01\r\u001b[K     |██████▉                         | 706kB 2.7MB/s eta 0:00:01\r\u001b[K     |███████                         | 716kB 2.7MB/s eta 0:00:01\r\u001b[K     |███████                         | 727kB 2.7MB/s eta 0:00:01\r\u001b[K     |███████▏                        | 737kB 2.7MB/s eta 0:00:01\r\u001b[K     |███████▏                        | 747kB 2.7MB/s eta 0:00:01\r\u001b[K     |███████▎                        | 757kB 2.7MB/s eta 0:00:01\r\u001b[K     |███████▍                        | 768kB 2.7MB/s eta 0:00:01\r\u001b[K     |███████▌                        | 778kB 2.7MB/s eta 0:00:01\r\u001b[K     |███████▋                        | 788kB 2.7MB/s eta 0:00:01\r\u001b[K     |███████▊                        | 798kB 2.7MB/s eta 0:00:01\r\u001b[K     |███████▉                        | 808kB 2.7MB/s eta 0:00:01\r\u001b[K     |████████                        | 819kB 2.7MB/s eta 0:00:01\r\u001b[K     |████████                        | 829kB 2.7MB/s eta 0:00:01\r\u001b[K     |████████                        | 839kB 2.7MB/s eta 0:00:01\r\u001b[K     |████████▏                       | 849kB 2.7MB/s eta 0:00:01\r\u001b[K     |████████▎                       | 860kB 2.7MB/s eta 0:00:01\r\u001b[K     |████████▍                       | 870kB 2.7MB/s eta 0:00:01\r\u001b[K     |████████▌                       | 880kB 2.7MB/s eta 0:00:01\r\u001b[K     |████████▋                       | 890kB 2.7MB/s eta 0:00:01\r\u001b[K     |████████▊                       | 901kB 2.7MB/s eta 0:00:01\r\u001b[K     |████████▉                       | 911kB 2.7MB/s eta 0:00:01\r\u001b[K     |█████████                       | 921kB 2.7MB/s eta 0:00:01\r\u001b[K     |█████████                       | 931kB 2.7MB/s eta 0:00:01\r\u001b[K     |█████████                       | 942kB 2.7MB/s eta 0:00:01\r\u001b[K     |█████████▏                      | 952kB 2.7MB/s eta 0:00:01\r\u001b[K     |█████████▎                      | 962kB 2.7MB/s eta 0:00:01\r\u001b[K     |█████████▍                      | 972kB 2.7MB/s eta 0:00:01\r\u001b[K     |█████████▌                      | 983kB 2.7MB/s eta 0:00:01\r\u001b[K     |█████████▋                      | 993kB 2.7MB/s eta 0:00:01\r\u001b[K     |█████████▊                      | 1.0MB 2.7MB/s eta 0:00:01\r\u001b[K     |█████████▉                      | 1.0MB 2.7MB/s eta 0:00:01\r\u001b[K     |█████████▉                      | 1.0MB 2.7MB/s eta 0:00:01\r\u001b[K     |██████████                      | 1.0MB 2.7MB/s eta 0:00:01\r\u001b[K     |██████████                      | 1.0MB 2.7MB/s eta 0:00:01\r\u001b[K     |██████████▏                     | 1.1MB 2.7MB/s eta 0:00:01\r\u001b[K     |██████████▎                     | 1.1MB 2.7MB/s eta 0:00:01\r\u001b[K     |██████████▍                     | 1.1MB 2.7MB/s eta 0:00:01\r\u001b[K     |██████████▌                     | 1.1MB 2.7MB/s eta 0:00:01\r\u001b[K     |██████████▋                     | 1.1MB 2.7MB/s eta 0:00:01\r\u001b[K     |██████████▊                     | 1.1MB 2.7MB/s eta 0:00:01\r\u001b[K     |██████████▉                     | 1.1MB 2.7MB/s eta 0:00:01\r\u001b[K     |██████████▉                     | 1.1MB 2.7MB/s eta 0:00:01\r\u001b[K     |███████████                     | 1.1MB 2.7MB/s eta 0:00:01\r\u001b[K     |███████████                     | 1.1MB 2.7MB/s eta 0:00:01\r\u001b[K     |███████████▏                    | 1.2MB 2.7MB/s eta 0:00:01\r\u001b[K     |███████████▎                    | 1.2MB 2.7MB/s eta 0:00:01\r\u001b[K     |███████████▍                    | 1.2MB 2.7MB/s eta 0:00:01\r\u001b[K     |███████████▌                    | 1.2MB 2.7MB/s eta 0:00:01\r\u001b[K     |███████████▋                    | 1.2MB 2.7MB/s eta 0:00:01\r\u001b[K     |███████████▊                    | 1.2MB 2.7MB/s eta 0:00:01\r\u001b[K     |███████████▊                    | 1.2MB 2.7MB/s eta 0:00:01\r\u001b[K     |███████████▉                    | 1.2MB 2.7MB/s eta 0:00:01\r\u001b[K     |████████████                    | 1.2MB 2.7MB/s eta 0:00:01\r\u001b[K     |████████████                    | 1.2MB 2.7MB/s eta 0:00:01\r\u001b[K     |████████████▏                   | 1.3MB 2.7MB/s eta 0:00:01\r\u001b[K     |████████████▎                   | 1.3MB 2.7MB/s eta 0:00:01\r\u001b[K     |████████████▍                   | 1.3MB 2.7MB/s eta 0:00:01\r\u001b[K     |████████████▌                   | 1.3MB 2.7MB/s eta 0:00:01\r\u001b[K     |████████████▋                   | 1.3MB 2.7MB/s eta 0:00:01\r\u001b[K     |████████████▋                   | 1.3MB 2.7MB/s eta 0:00:01\r\u001b[K     |████████████▊                   | 1.3MB 2.7MB/s eta 0:00:01\r\u001b[K     |████████████▉                   | 1.3MB 2.7MB/s eta 0:00:01\r\u001b[K     |█████████████                   | 1.3MB 2.7MB/s eta 0:00:01\r\u001b[K     |█████████████                   | 1.4MB 2.7MB/s eta 0:00:01\r\u001b[K     |█████████████▏                  | 1.4MB 2.7MB/s eta 0:00:01\r\u001b[K     |█████████████▎                  | 1.4MB 2.7MB/s eta 0:00:01\r\u001b[K     |█████████████▍                  | 1.4MB 2.7MB/s eta 0:00:01\r\u001b[K     |█████████████▌                  | 1.4MB 2.7MB/s eta 0:00:01\r\u001b[K     |█████████████▌                  | 1.4MB 2.7MB/s eta 0:00:01\r\u001b[K     |█████████████▋                  | 1.4MB 2.7MB/s eta 0:00:01\r\u001b[K     |█████████████▊                  | 1.4MB 2.7MB/s eta 0:00:01\r\u001b[K     |█████████████▉                  | 1.4MB 2.7MB/s eta 0:00:01\r\u001b[K     |██████████████                  | 1.4MB 2.7MB/s eta 0:00:01\r\u001b[K     |██████████████                  | 1.5MB 2.7MB/s eta 0:00:01\r\u001b[K     |██████████████▏                 | 1.5MB 2.7MB/s eta 0:00:01\r\u001b[K     |██████████████▎                 | 1.5MB 2.7MB/s eta 0:00:01\r\u001b[K     |██████████████▍                 | 1.5MB 2.7MB/s eta 0:00:01\r\u001b[K     |██████████████▍                 | 1.5MB 2.7MB/s eta 0:00:01\r\u001b[K     |██████████████▌                 | 1.5MB 2.7MB/s eta 0:00:01\r\u001b[K     |██████████████▋                 | 1.5MB 2.7MB/s eta 0:00:01\r\u001b[K     |██████████████▊                 | 1.5MB 2.7MB/s eta 0:00:01\r\u001b[K     |██████████████▉                 | 1.5MB 2.7MB/s eta 0:00:01\r\u001b[K     |███████████████                 | 1.5MB 2.7MB/s eta 0:00:01\r\u001b[K     |███████████████                 | 1.6MB 2.7MB/s eta 0:00:01\r\u001b[K     |███████████████▏                | 1.6MB 2.7MB/s eta 0:00:01\r\u001b[K     |███████████████▎                | 1.6MB 2.7MB/s eta 0:00:01\r\u001b[K     |███████████████▎                | 1.6MB 2.7MB/s eta 0:00:01\r\u001b[K     |███████████████▍                | 1.6MB 2.7MB/s eta 0:00:01\r\u001b[K     |███████████████▌                | 1.6MB 2.7MB/s eta 0:00:01\r\u001b[K     |███████████████▋                | 1.6MB 2.7MB/s eta 0:00:01\r\u001b[K     |███████████████▊                | 1.6MB 2.7MB/s eta 0:00:01\r\u001b[K     |███████████████▉                | 1.6MB 2.7MB/s eta 0:00:01\r\u001b[K     |████████████████                | 1.6MB 2.7MB/s eta 0:00:01\r\u001b[K     |████████████████                | 1.7MB 2.7MB/s eta 0:00:01\r\u001b[K     |████████████████▏               | 1.7MB 2.7MB/s eta 0:00:01\r\u001b[K     |████████████████▏               | 1.7MB 2.7MB/s eta 0:00:01\r\u001b[K     |████████████████▎               | 1.7MB 2.7MB/s eta 0:00:01\r\u001b[K     |████████████████▍               | 1.7MB 2.7MB/s eta 0:00:01\r\u001b[K     |████████████████▌               | 1.7MB 2.7MB/s eta 0:00:01\r\u001b[K     |████████████████▋               | 1.7MB 2.7MB/s eta 0:00:01\r\u001b[K     |████████████████▊               | 1.7MB 2.7MB/s eta 0:00:01\r\u001b[K     |████████████████▉               | 1.7MB 2.7MB/s eta 0:00:01\r\u001b[K     |█████████████████               | 1.8MB 2.7MB/s eta 0:00:01\r\u001b[K     |█████████████████               | 1.8MB 2.7MB/s eta 0:00:01\r\u001b[K     |█████████████████               | 1.8MB 2.7MB/s eta 0:00:01\r\u001b[K     |█████████████████▏              | 1.8MB 2.7MB/s eta 0:00:01\r\u001b[K     |█████████████████▎              | 1.8MB 2.7MB/s eta 0:00:01\r\u001b[K     |█████████████████▍              | 1.8MB 2.7MB/s eta 0:00:01\r\u001b[K     |█████████████████▌              | 1.8MB 2.7MB/s eta 0:00:01\r\u001b[K     |█████████████████▋              | 1.8MB 2.7MB/s eta 0:00:01\r\u001b[K     |█████████████████▊              | 1.8MB 2.7MB/s eta 0:00:01\r\u001b[K     |█████████████████▉              | 1.8MB 2.7MB/s eta 0:00:01\r\u001b[K     |██████████████████              | 1.9MB 2.7MB/s eta 0:00:01\r\u001b[K     |██████████████████              | 1.9MB 2.7MB/s eta 0:00:01\r\u001b[K     |██████████████████              | 1.9MB 2.7MB/s eta 0:00:01\r\u001b[K     |██████████████████▏             | 1.9MB 2.7MB/s eta 0:00:01\r\u001b[K     |██████████████████▎             | 1.9MB 2.7MB/s eta 0:00:01\r\u001b[K     |██████████████████▍             | 1.9MB 2.7MB/s eta 0:00:01\r\u001b[K     |██████████████████▌             | 1.9MB 2.7MB/s eta 0:00:01\r\u001b[K     |██████████████████▋             | 1.9MB 2.7MB/s eta 0:00:01\r\u001b[K     |██████████████████▊             | 1.9MB 2.7MB/s eta 0:00:01\r\u001b[K     |██████████████████▉             | 1.9MB 2.7MB/s eta 0:00:01\r\u001b[K     |██████████████████▉             | 2.0MB 2.7MB/s eta 0:00:01\r\u001b[K     |███████████████████             | 2.0MB 2.7MB/s eta 0:00:01\r\u001b[K     |███████████████████             | 2.0MB 2.7MB/s eta 0:00:01\r\u001b[K     |███████████████████▏            | 2.0MB 2.7MB/s eta 0:00:01\r\u001b[K     |███████████████████▎            | 2.0MB 2.7MB/s eta 0:00:01\r\u001b[K     |███████████████████▍            | 2.0MB 2.7MB/s eta 0:00:01\r\u001b[K     |███████████████████▌            | 2.0MB 2.7MB/s eta 0:00:01\r\u001b[K     |███████████████████▋            | 2.0MB 2.7MB/s eta 0:00:01\r\u001b[K     |███████████████████▊            | 2.0MB 2.7MB/s eta 0:00:01\r\u001b[K     |███████████████████▊            | 2.0MB 2.7MB/s eta 0:00:01\r\u001b[K     |███████████████████▉            | 2.1MB 2.7MB/s eta 0:00:01\r\u001b[K     |████████████████████            | 2.1MB 2.7MB/s eta 0:00:01\r\u001b[K     |████████████████████            | 2.1MB 2.7MB/s eta 0:00:01\r\u001b[K     |████████████████████▏           | 2.1MB 2.7MB/s eta 0:00:01\r\u001b[K     |████████████████████▎           | 2.1MB 2.7MB/s eta 0:00:01\r\u001b[K     |████████████████████▍           | 2.1MB 2.7MB/s eta 0:00:01\r\u001b[K     |████████████████████▌           | 2.1MB 2.7MB/s eta 0:00:01\r\u001b[K     |████████████████████▋           | 2.1MB 2.7MB/s eta 0:00:01\r\u001b[K     |████████████████████▊           | 2.1MB 2.7MB/s eta 0:00:01\r\u001b[K     |████████████████████▊           | 2.2MB 2.7MB/s eta 0:00:01\r\u001b[K     |████████████████████▉           | 2.2MB 2.7MB/s eta 0:00:01\r\u001b[K     |█████████████████████           | 2.2MB 2.7MB/s eta 0:00:01\r\u001b[K     |█████████████████████           | 2.2MB 2.7MB/s eta 0:00:01\r\u001b[K     |█████████████████████▏          | 2.2MB 2.7MB/s eta 0:00:01\r\u001b[K     |█████████████████████▎          | 2.2MB 2.7MB/s eta 0:00:01\r\u001b[K     |█████████████████████▍          | 2.2MB 2.7MB/s eta 0:00:01\r\u001b[K     |█████████████████████▌          | 2.2MB 2.7MB/s eta 0:00:01\r\u001b[K     |█████████████████████▋          | 2.2MB 2.7MB/s eta 0:00:01\r\u001b[K     |█████████████████████▋          | 2.2MB 2.7MB/s eta 0:00:01\r\u001b[K     |█████████████████████▊          | 2.3MB 2.7MB/s eta 0:00:01\r\u001b[K     |█████████████████████▉          | 2.3MB 2.7MB/s eta 0:00:01\r\u001b[K     |██████████████████████          | 2.3MB 2.7MB/s eta 0:00:01\r\u001b[K     |██████████████████████          | 2.3MB 2.7MB/s eta 0:00:01\r\u001b[K     |██████████████████████▏         | 2.3MB 2.7MB/s eta 0:00:01\r\u001b[K     |██████████████████████▎         | 2.3MB 2.7MB/s eta 0:00:01\r\u001b[K     |██████████████████████▍         | 2.3MB 2.7MB/s eta 0:00:01\r\u001b[K     |██████████████████████▌         | 2.3MB 2.7MB/s eta 0:00:01\r\u001b[K     |██████████████████████▌         | 2.3MB 2.7MB/s eta 0:00:01\r\u001b[K     |██████████████████████▋         | 2.3MB 2.7MB/s eta 0:00:01\r\u001b[K     |██████████████████████▊         | 2.4MB 2.7MB/s eta 0:00:01\r\u001b[K     |██████████████████████▉         | 2.4MB 2.7MB/s eta 0:00:01\r\u001b[K     |███████████████████████         | 2.4MB 2.7MB/s eta 0:00:01\r\u001b[K     |███████████████████████         | 2.4MB 2.7MB/s eta 0:00:01\r\u001b[K     |███████████████████████▏        | 2.4MB 2.7MB/s eta 0:00:01\r\u001b[K     |███████████████████████▎        | 2.4MB 2.7MB/s eta 0:00:01\r\u001b[K     |███████████████████████▍        | 2.4MB 2.7MB/s eta 0:00:01\r\u001b[K     |███████████████████████▍        | 2.4MB 2.7MB/s eta 0:00:01\r\u001b[K     |███████████████████████▌        | 2.4MB 2.7MB/s eta 0:00:01\r\u001b[K     |███████████████████████▋        | 2.4MB 2.7MB/s eta 0:00:01\r\u001b[K     |███████████████████████▊        | 2.5MB 2.7MB/s eta 0:00:01\r\u001b[K     |███████████████████████▉        | 2.5MB 2.7MB/s eta 0:00:01\r\u001b[K     |████████████████████████        | 2.5MB 2.7MB/s eta 0:00:01\r\u001b[K     |████████████████████████        | 2.5MB 2.7MB/s eta 0:00:01\r\u001b[K     |████████████████████████▏       | 2.5MB 2.7MB/s eta 0:00:01\r\u001b[K     |████████████████████████▎       | 2.5MB 2.7MB/s eta 0:00:01\r\u001b[K     |████████████████████████▎       | 2.5MB 2.7MB/s eta 0:00:01\r\u001b[K     |████████████████████████▍       | 2.5MB 2.7MB/s eta 0:00:01\r\u001b[K     |████████████████████████▌       | 2.5MB 2.7MB/s eta 0:00:01\r\u001b[K     |████████████████████████▋       | 2.5MB 2.7MB/s eta 0:00:01\r\u001b[K     |████████████████████████▊       | 2.6MB 2.7MB/s eta 0:00:01\r\u001b[K     |████████████████████████▉       | 2.6MB 2.7MB/s eta 0:00:01\r\u001b[K     |█████████████████████████       | 2.6MB 2.7MB/s eta 0:00:01\r\u001b[K     |█████████████████████████       | 2.6MB 2.7MB/s eta 0:00:01\r\u001b[K     |█████████████████████████▏      | 2.6MB 2.7MB/s eta 0:00:01\r\u001b[K     |█████████████████████████▏      | 2.6MB 2.7MB/s eta 0:00:01\r\u001b[K     |█████████████████████████▎      | 2.6MB 2.7MB/s eta 0:00:01\r\u001b[K     |█████████████████████████▍      | 2.6MB 2.7MB/s eta 0:00:01\r\u001b[K     |█████████████████████████▌      | 2.6MB 2.7MB/s eta 0:00:01\r\u001b[K     |█████████████████████████▋      | 2.7MB 2.7MB/s eta 0:00:01\r\u001b[K     |█████████████████████████▊      | 2.7MB 2.7MB/s eta 0:00:01\r\u001b[K     |█████████████████████████▉      | 2.7MB 2.7MB/s eta 0:00:01\r\u001b[K     |██████████████████████████      | 2.7MB 2.7MB/s eta 0:00:01\r\u001b[K     |██████████████████████████      | 2.7MB 2.7MB/s eta 0:00:01\r\u001b[K     |██████████████████████████      | 2.7MB 2.7MB/s eta 0:00:01\r\u001b[K     |██████████████████████████▏     | 2.7MB 2.7MB/s eta 0:00:01\r\u001b[K     |██████████████████████████▎     | 2.7MB 2.7MB/s eta 0:00:01\r\u001b[K     |██████████████████████████▍     | 2.7MB 2.7MB/s eta 0:00:01\r\u001b[K     |██████████████████████████▌     | 2.7MB 2.7MB/s eta 0:00:01\r\u001b[K     |██████████████████████████▋     | 2.8MB 2.7MB/s eta 0:00:01\r\u001b[K     |██████████████████████████▊     | 2.8MB 2.7MB/s eta 0:00:01\r\u001b[K     |██████████████████████████▉     | 2.8MB 2.7MB/s eta 0:00:01\r\u001b[K     |███████████████████████████     | 2.8MB 2.7MB/s eta 0:00:01\r\u001b[K     |███████████████████████████     | 2.8MB 2.7MB/s eta 0:00:01\r\u001b[K     |███████████████████████████     | 2.8MB 2.7MB/s eta 0:00:01\r\u001b[K     |███████████████████████████▏    | 2.8MB 2.7MB/s eta 0:00:01\r\u001b[K     |███████████████████████████▎    | 2.8MB 2.7MB/s eta 0:00:01\r\u001b[K     |███████████████████████████▍    | 2.8MB 2.7MB/s eta 0:00:01\r\u001b[K     |███████████████████████████▌    | 2.8MB 2.7MB/s eta 0:00:01\r\u001b[K     |███████████████████████████▋    | 2.9MB 2.7MB/s eta 0:00:01\r\u001b[K     |███████████████████████████▊    | 2.9MB 2.7MB/s eta 0:00:01\r\u001b[K     |███████████████████████████▉    | 2.9MB 2.7MB/s eta 0:00:01\r\u001b[K     |███████████████████████████▉    | 2.9MB 2.7MB/s eta 0:00:01\r\u001b[K     |████████████████████████████    | 2.9MB 2.7MB/s eta 0:00:01\r\u001b[K     |████████████████████████████    | 2.9MB 2.7MB/s eta 0:00:01\r\u001b[K     |████████████████████████████▏   | 2.9MB 2.7MB/s eta 0:00:01\r\u001b[K     |████████████████████████████▎   | 2.9MB 2.7MB/s eta 0:00:01\r\u001b[K     |████████████████████████████▍   | 2.9MB 2.7MB/s eta 0:00:01\r\u001b[K     |████████████████████████████▌   | 2.9MB 2.7MB/s eta 0:00:01\r\u001b[K     |████████████████████████████▋   | 3.0MB 2.7MB/s eta 0:00:01\r\u001b[K     |████████████████████████████▊   | 3.0MB 2.7MB/s eta 0:00:01\r\u001b[K     |████████████████████████████▊   | 3.0MB 2.7MB/s eta 0:00:01\r\u001b[K     |████████████████████████████▉   | 3.0MB 2.7MB/s eta 0:00:01\r\u001b[K     |█████████████████████████████   | 3.0MB 2.7MB/s eta 0:00:01\r\u001b[K     |█████████████████████████████   | 3.0MB 2.7MB/s eta 0:00:01\r\u001b[K     |█████████████████████████████▏  | 3.0MB 2.7MB/s eta 0:00:01\r\u001b[K     |█████████████████████████████▎  | 3.0MB 2.7MB/s eta 0:00:01\r\u001b[K     |█████████████████████████████▍  | 3.0MB 2.7MB/s eta 0:00:01\r\u001b[K     |█████████████████████████████▌  | 3.1MB 2.7MB/s eta 0:00:01\r\u001b[K     |█████████████████████████████▋  | 3.1MB 2.7MB/s eta 0:00:01\r\u001b[K     |█████████████████████████████▋  | 3.1MB 2.7MB/s eta 0:00:01\r\u001b[K     |█████████████████████████████▊  | 3.1MB 2.7MB/s eta 0:00:01\r\u001b[K     |█████████████████████████████▉  | 3.1MB 2.7MB/s eta 0:00:01\r\u001b[K     |██████████████████████████████  | 3.1MB 2.7MB/s eta 0:00:01\r\u001b[K     |██████████████████████████████  | 3.1MB 2.7MB/s eta 0:00:01\r\u001b[K     |██████████████████████████████▏ | 3.1MB 2.7MB/s eta 0:00:01\r\u001b[K     |██████████████████████████████▎ | 3.1MB 2.7MB/s eta 0:00:01\r\u001b[K     |██████████████████████████████▍ | 3.1MB 2.7MB/s eta 0:00:01\r\u001b[K     |██████████████████████████████▌ | 3.2MB 2.7MB/s eta 0:00:01\r\u001b[K     |██████████████████████████████▋ | 3.2MB 2.7MB/s eta 0:00:01\r\u001b[K     |██████████████████████████████▋ | 3.2MB 2.7MB/s eta 0:00:01\r\u001b[K     |██████████████████████████████▊ | 3.2MB 2.7MB/s eta 0:00:01\r\u001b[K     |██████████████████████████████▉ | 3.2MB 2.7MB/s eta 0:00:01\r\u001b[K     |███████████████████████████████ | 3.2MB 2.7MB/s eta 0:00:01\r\u001b[K     |███████████████████████████████ | 3.2MB 2.7MB/s eta 0:00:01\r\u001b[K     |███████████████████████████████▏| 3.2MB 2.7MB/s eta 0:00:01\r\u001b[K     |███████████████████████████████▎| 3.2MB 2.7MB/s eta 0:00:01\r\u001b[K     |███████████████████████████████▍| 3.2MB 2.7MB/s eta 0:00:01\r\u001b[K     |███████████████████████████████▌| 3.3MB 2.7MB/s eta 0:00:01\r\u001b[K     |███████████████████████████████▌| 3.3MB 2.7MB/s eta 0:00:01\r\u001b[K     |███████████████████████████████▋| 3.3MB 2.7MB/s eta 0:00:01\r\u001b[K     |███████████████████████████████▊| 3.3MB 2.7MB/s eta 0:00:01\r\u001b[K     |███████████████████████████████▉| 3.3MB 2.7MB/s eta 0:00:01\r\u001b[K     |████████████████████████████████| 3.3MB 2.7MB/s eta 0:00:01\r\u001b[K     |████████████████████████████████| 3.3MB 2.7MB/s \n",
            "\u001b[?25hRequirement already satisfied, skipping upgrade: numpy in /usr/local/lib/python3.6/dist-packages (from imageio==2.6.1) (1.17.5)\n",
            "Requirement already satisfied, skipping upgrade: pillow in /usr/local/lib/python3.6/dist-packages (from imageio==2.6.1) (6.2.2)\n",
            "\u001b[31mERROR: albumentations 0.1.12 has requirement imgaug<0.2.7,>=0.2.5, but you'll have imgaug 0.2.9 which is incompatible.\u001b[0m\n",
            "Installing collected packages: imageio\n",
            "  Found existing installation: imageio 2.4.1\n",
            "    Uninstalling imageio-2.4.1:\n",
            "      Successfully uninstalled imageio-2.4.1\n",
            "Successfully installed imageio-2.6.1\n"
          ],
          "name": "stdout"
        }
      ]
    },
    {
      "cell_type": "code",
      "metadata": {
        "id": "aiJ6aszWjikc",
        "colab_type": "code",
        "colab": {
          "base_uri": "https://localhost:8080/",
          "height": 123
        },
        "outputId": "61211ddd-062a-42b3-8f77-4ed3dda2393d"
      },
      "source": [
        "import os\n",
        "os.listdir(\"drive/My Drive/MesoNet\")"
      ],
      "execution_count": 7,
      "outputs": [
        {
          "output_type": "execute_result",
          "data": {
            "text/plain": [
              "['Meso4_F2F',\n",
              " 'MesoInception_F2F',\n",
              " 'MesoInception_DF',\n",
              " 'Meso4_DF',\n",
              " 'pipeline.py',\n",
              " 'classifiers.py']"
            ]
          },
          "metadata": {
            "tags": []
          },
          "execution_count": 7
        }
      ]
    },
    {
      "cell_type": "code",
      "metadata": {
        "id": "6q0dZbltjxMl",
        "colab_type": "code",
        "colab": {}
      },
      "source": [
        "import sys\n",
        "sys.path.insert(0,\"drive/My Drive/MesoNet/\")"
      ],
      "execution_count": 0,
      "outputs": []
    },
    {
      "cell_type": "code",
      "metadata": {
        "id": "WyWAFX8hk4aG",
        "colab_type": "code",
        "colab": {
          "base_uri": "https://localhost:8080/",
          "height": 34
        },
        "outputId": "3c23927c-60f0-45d5-cf00-3428cfb78ed7"
      },
      "source": [
        "test_dir = \"drive/My Drive/DeepFake_test/\"\n",
        "\n",
        "test_videos = sorted([x for x in os.listdir(test_dir) if x[-4:] == \".mp4\"])\n",
        "len(test_videos)"
      ],
      "execution_count": 9,
      "outputs": [
        {
          "output_type": "execute_result",
          "data": {
            "text/plain": [
              "5"
            ]
          },
          "metadata": {
            "tags": []
          },
          "execution_count": 9
        }
      ]
    },
    {
      "cell_type": "code",
      "metadata": {
        "id": "nrF6pd9vT3ai",
        "colab_type": "code",
        "colab": {
          "base_uri": "https://localhost:8080/",
          "height": 81
        },
        "outputId": "c4c77cda-842e-4718-c927-3ab59d4e7dcf"
      },
      "source": [
        "import numpy as np\n",
        "from classifiers import *\n",
        "from pipeline import *\n",
        "import time"
      ],
      "execution_count": 15,
      "outputs": [
        {
          "output_type": "stream",
          "text": [
            "Using TensorFlow backend.\n"
          ],
          "name": "stderr"
        },
        {
          "output_type": "display_data",
          "data": {
            "text/html": [
              "<p style=\"color: red;\">\n",
              "The default version of TensorFlow in Colab will soon switch to TensorFlow 2.x.<br>\n",
              "We recommend you <a href=\"https://www.tensorflow.org/guide/migrate\" target=\"_blank\">upgrade</a> now \n",
              "or ensure your notebook will continue to use TensorFlow 1.x via the <code>%tensorflow_version 1.x</code> magic:\n",
              "<a href=\"https://colab.research.google.com/notebooks/tensorflow_version.ipynb\" target=\"_blank\">more info</a>.</p>\n"
            ],
            "text/plain": [
              "<IPython.core.display.HTML object>"
            ]
          },
          "metadata": {
            "tags": []
          }
        }
      ]
    },
    {
      "cell_type": "markdown",
      "metadata": {
        "id": "h3k_ADpUljOt",
        "colab_type": "text"
      },
      "source": [
        "Load Pretrained Weights"
      ]
    },
    {
      "cell_type": "code",
      "metadata": {
        "id": "Fps4BdAfVADh",
        "colab_type": "code",
        "colab": {}
      },
      "source": [
        "classifier = Meso4()\n",
        "classifier.load('drive/My Drive/MesoNet/Meso4_F2F')"
      ],
      "execution_count": 0,
      "outputs": []
    },
    {
      "cell_type": "markdown",
      "metadata": {
        "id": "fFVJEmF8lfs9",
        "colab_type": "text"
      },
      "source": [
        "Predict Individual Video"
      ]
    },
    {
      "cell_type": "code",
      "metadata": {
        "id": "oMwc_lFRv-IB",
        "colab_type": "code",
        "colab": {}
      },
      "source": [
        "def predict_on_video(classifier, vid, dirname, frame_subsample_count = 30):\n",
        "    '''\n",
        "    params : classifier\n",
        "             vid = video filename\n",
        "             dirname = video file directory\n",
        "    '''\n",
        "    try:\n",
        "        print('Dealing with video ', vid)\n",
        "\n",
        "        # Compute face locations and store them in the face finder\n",
        "        start_time = time.time()\n",
        "        face_finder = FaceFinder(join(dirname, vid), load_first_face = False)\n",
        "        skipstep = max(floor(face_finder.length / frame_subsample_count), 0)\n",
        "        face_finder.find_faces(resize=0.5, skipstep = skipstep)\n",
        "        elapsed = time.time() - start_time\n",
        "        print(\"Found Face %f sec.\" % (elapsed))\n",
        "        \n",
        "        print('Predicting ', vid)\n",
        "        start_time = time.time()\n",
        "        gen = FaceBatchGenerator(face_finder)\n",
        "        elapsed = time.time() - start_time\n",
        "        print(\"Generated Batch %f sec.\" % (elapsed))\n",
        "        \n",
        "        start_time = time.time()\n",
        "        p = predict_faces(gen, classifier)\n",
        "        elapsed = time.time() - start_time\n",
        "        print(\"Prediction %f sec.\" % (elapsed))\n",
        "\n",
        "        prediction = (np.mean(p > 0.5), p)\n",
        "        \n",
        "        return prediction\n",
        "    \n",
        "    except Exception as e:\n",
        "        print(\"Prediction error on video %s: %s\" % (vid, str(e)))\n",
        "    \n",
        "    return 0.5    "
      ],
      "execution_count": 0,
      "outputs": []
    },
    {
      "cell_type": "markdown",
      "metadata": {
        "id": "NX163eAnmjTU",
        "colab_type": "text"
      },
      "source": [
        "Compute accuracy of entire dataset"
      ]
    },
    {
      "cell_type": "code",
      "metadata": {
        "id": "c2Ug6iyatnuQ",
        "colab_type": "code",
        "colab": {}
      },
      "source": [
        "def compute_accuracy(classifier, dirname, frame_subsample_count = 30):\n",
        "    '''\n",
        "    params: classifier\n",
        "            dirname = video directory\n",
        "    \n",
        "    '''\n",
        "    filenames = [f for f in listdir(dirname) if isfile(join(dirname, f)) and ((f[-4:] == '.mp4') or (f[-4:] == '.avi') or (f[-4:] == '.mov'))]\n",
        "    predictions = {}\n",
        "    \n",
        "    \n",
        "    for vid in filenames[:5]:\n",
        "        start_time = time.time()\n",
        "        pred = predict_on_video(classifier, vid, dirname, frame_subsample_count)\n",
        "        predictions[vid] = pred\n",
        "        elapsed = time.time() - start_time\n",
        "        print(\"Elapsed %f sec.\" % (elapsed))\n",
        "    return predictions"
      ],
      "execution_count": 0,
      "outputs": []
    },
    {
      "cell_type": "code",
      "metadata": {
        "id": "jdiq8HvLwwUh",
        "colab_type": "code",
        "colab": {}
      },
      "source": [
        "'''\n",
        "Running each video on a single core with threads\n",
        "'''\n",
        "# from concurrent.futures import ThreadPoolExecutor\n",
        "\n",
        "# def predict_on_video_set(videos, num_workers):\n",
        "#     def process_file(i):\n",
        "#         filename = videos[i]\n",
        "#         y_pred = predict_on_video(os.path.join(test_dir, filename), batch_size=frames_per_video)\n",
        "#         return y_pred\n",
        "\n",
        "#     with ThreadPoolExecutor(max_workers=num_workers) as ex:\n",
        "#         predictions = ex.map(process_file, range(len(videos)))\n",
        "\n",
        "#     return list(predictions)"
      ],
      "execution_count": 0,
      "outputs": []
    },
    {
      "cell_type": "code",
      "metadata": {
        "id": "KkKxvPDFVNKe",
        "colab_type": "code",
        "colab": {
          "base_uri": "https://localhost:8080/",
          "height": 265
        },
        "outputId": "47735c73-27ec-4f62-dde6-533e5a527433"
      },
      "source": [
        "predictions = compute_accuracy(classifier, test_dir)\n",
        "result = {}\n",
        "for video_name in predictions:\n",
        "    result[video_name] = predictions[video_name][0]\n",
        "    print('`{}` video class prediction :'.format(video_name), predictions[video_name][0])"
      ],
      "execution_count": 24,
      "outputs": [
        {
          "output_type": "stream",
          "text": [
            "Dealing with video  aelfnikyqj.mp4\n",
            "Face extraction warning :  0 - found face in full frame [(83, 1011, 194, 899)]\n",
            "Face extraction report of not_found : 1\n",
            "Face extraction report of no_face : 0\n",
            "Predicting  aelfnikyqj.mp4\n",
            "Elapsed 18.163348 sec\n",
            "Dealing with video  abarnvbtwb.mp4\n",
            "Face extraction warning :  0 - found face in full frame [(208, 999, 401, 807)]\n",
            "Face extraction report of not_found : 1\n",
            "Face extraction report of no_face : 0\n",
            "Predicting  abarnvbtwb.mp4\n",
            "Elapsed 19.683799 sec\n",
            "`aelfnikyqj.mp4` video class prediction : 1.0\n",
            "`abarnvbtwb.mp4` video class prediction : 1.0\n"
          ],
          "name": "stdout"
        }
      ]
    },
    {
      "cell_type": "code",
      "metadata": {
        "id": "7Bu3CKmLhjNI",
        "colab_type": "code",
        "colab": {}
      },
      "source": [
        "import pandas as pd\n",
        "submission_df = pd.DataFrame(list(result.items()), columns={'filename','label'})\n",
        "submission_df.head()"
      ],
      "execution_count": 0,
      "outputs": []
    }
  ]
}